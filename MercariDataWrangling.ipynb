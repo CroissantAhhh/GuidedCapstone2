{
 "cells": [
  {
   "cell_type": "code",
   "execution_count": 1,
   "metadata": {},
   "outputs": [],
   "source": [
    "#Imports\n",
    "import pandas as pd\n",
    "import matplotlib.pyplot as plt\n",
    "import seaborn as sns\n",
    "import os"
   ]
  },
  {
   "cell_type": "code",
   "execution_count": 3,
   "metadata": {},
   "outputs": [],
   "source": [
    "#Reading in Data\n",
    "path = \"/Users/jasonzhou/Documents/GuidedCapstone2\"\n",
    "os.chdir(path)\n",
    "mercari_data = pd.read_csv(\"TrainMercari.csv\")\n",
    "mercari_data = mercari_data.rename(index=str, columns = {\"name\":\"Name\", \"item_condition_id\":\"Condition\",\n",
    "                                                        \"category_name\":\"Category\", \"brand_name\":\"Brand\",\n",
    "                                                        \"price\":\"Price\", \"shipping\":\"Shipping\",\n",
    "                                                        \"item_description\":\"Item Description\"})\n",
    "mercari_data = mercari_data.drop(columns=['train_id'])"
   ]
  },
  {
   "cell_type": "code",
   "execution_count": 4,
   "metadata": {},
   "outputs": [
    {
     "data": {
      "text/html": [
       "<div>\n",
       "<style scoped>\n",
       "    .dataframe tbody tr th:only-of-type {\n",
       "        vertical-align: middle;\n",
       "    }\n",
       "\n",
       "    .dataframe tbody tr th {\n",
       "        vertical-align: top;\n",
       "    }\n",
       "\n",
       "    .dataframe thead th {\n",
       "        text-align: right;\n",
       "    }\n",
       "</style>\n",
       "<table border=\"1\" class=\"dataframe\">\n",
       "  <thead>\n",
       "    <tr style=\"text-align: right;\">\n",
       "      <th></th>\n",
       "      <th>Condition</th>\n",
       "      <th>Price</th>\n",
       "      <th>Shipping</th>\n",
       "    </tr>\n",
       "  </thead>\n",
       "  <tbody>\n",
       "    <tr>\n",
       "      <th>count</th>\n",
       "      <td>1.048575e+06</td>\n",
       "      <td>1.048575e+06</td>\n",
       "      <td>1.048575e+06</td>\n",
       "    </tr>\n",
       "    <tr>\n",
       "      <th>mean</th>\n",
       "      <td>1.907426e+00</td>\n",
       "      <td>2.673614e+01</td>\n",
       "      <td>4.474091e-01</td>\n",
       "    </tr>\n",
       "    <tr>\n",
       "      <th>std</th>\n",
       "      <td>9.030750e-01</td>\n",
       "      <td>3.858335e+01</td>\n",
       "      <td>4.972267e-01</td>\n",
       "    </tr>\n",
       "    <tr>\n",
       "      <th>min</th>\n",
       "      <td>1.000000e+00</td>\n",
       "      <td>0.000000e+00</td>\n",
       "      <td>0.000000e+00</td>\n",
       "    </tr>\n",
       "    <tr>\n",
       "      <th>25%</th>\n",
       "      <td>1.000000e+00</td>\n",
       "      <td>1.000000e+01</td>\n",
       "      <td>0.000000e+00</td>\n",
       "    </tr>\n",
       "    <tr>\n",
       "      <th>50%</th>\n",
       "      <td>2.000000e+00</td>\n",
       "      <td>1.700000e+01</td>\n",
       "      <td>0.000000e+00</td>\n",
       "    </tr>\n",
       "    <tr>\n",
       "      <th>75%</th>\n",
       "      <td>3.000000e+00</td>\n",
       "      <td>2.900000e+01</td>\n",
       "      <td>1.000000e+00</td>\n",
       "    </tr>\n",
       "    <tr>\n",
       "      <th>max</th>\n",
       "      <td>5.000000e+00</td>\n",
       "      <td>2.009000e+03</td>\n",
       "      <td>1.000000e+00</td>\n",
       "    </tr>\n",
       "  </tbody>\n",
       "</table>\n",
       "</div>"
      ],
      "text/plain": [
       "          Condition         Price      Shipping\n",
       "count  1.048575e+06  1.048575e+06  1.048575e+06\n",
       "mean   1.907426e+00  2.673614e+01  4.474091e-01\n",
       "std    9.030750e-01  3.858335e+01  4.972267e-01\n",
       "min    1.000000e+00  0.000000e+00  0.000000e+00\n",
       "25%    1.000000e+00  1.000000e+01  0.000000e+00\n",
       "50%    2.000000e+00  1.700000e+01  0.000000e+00\n",
       "75%    3.000000e+00  2.900000e+01  1.000000e+00\n",
       "max    5.000000e+00  2.009000e+03  1.000000e+00"
      ]
     },
     "execution_count": 4,
     "metadata": {},
     "output_type": "execute_result"
    }
   ],
   "source": [
    "#Quick Summary of the Data\n",
    "mercari_data.describe()"
   ]
  },
  {
   "cell_type": "code",
   "execution_count": 5,
   "metadata": {},
   "outputs": [
    {
     "data": {
      "text/html": [
       "<div>\n",
       "<style scoped>\n",
       "    .dataframe tbody tr th:only-of-type {\n",
       "        vertical-align: middle;\n",
       "    }\n",
       "\n",
       "    .dataframe tbody tr th {\n",
       "        vertical-align: top;\n",
       "    }\n",
       "\n",
       "    .dataframe thead th {\n",
       "        text-align: right;\n",
       "    }\n",
       "</style>\n",
       "<table border=\"1\" class=\"dataframe\">\n",
       "  <thead>\n",
       "    <tr style=\"text-align: right;\">\n",
       "      <th></th>\n",
       "      <th>Name</th>\n",
       "      <th>Condition</th>\n",
       "      <th>Category</th>\n",
       "      <th>Brand</th>\n",
       "      <th>Price</th>\n",
       "      <th>Shipping</th>\n",
       "      <th>Item Description</th>\n",
       "    </tr>\n",
       "  </thead>\n",
       "  <tbody>\n",
       "    <tr>\n",
       "      <th>0</th>\n",
       "      <td>- \"Litty\" Available in Multi Plus Sizes</td>\n",
       "      <td>1</td>\n",
       "      <td>Women/Tops &amp; Blouses/Blouse</td>\n",
       "      <td>NaN</td>\n",
       "      <td>21</td>\n",
       "      <td>0</td>\n",
       "      <td>- Blue , Distressed Top . Comes in 1x , 2x &amp; 3...</td>\n",
       "    </tr>\n",
       "    <tr>\n",
       "      <th>1</th>\n",
       "      <td>--- 2 pcs great universal earphone</td>\n",
       "      <td>1</td>\n",
       "      <td>Electronics/TV, Audio &amp; Surveillance/Headphones</td>\n",
       "      <td>NaN</td>\n",
       "      <td>10</td>\n",
       "      <td>1</td>\n",
       "      <td>Brand new best quality headphones for iphone6s...</td>\n",
       "    </tr>\n",
       "    <tr>\n",
       "      <th>2</th>\n",
       "      <td>' BARE WITH ME ' DOSE OF COLORS</td>\n",
       "      <td>1</td>\n",
       "      <td>Beauty/Makeup/Lips</td>\n",
       "      <td>Sephora</td>\n",
       "      <td>14</td>\n",
       "      <td>1</td>\n",
       "      <td>Liquid matte lipstick Beautiful nude color Bra...</td>\n",
       "    </tr>\n",
       "    <tr>\n",
       "      <th>3</th>\n",
       "      <td>' BERRY ME ' DOSE OF COLORS</td>\n",
       "      <td>1</td>\n",
       "      <td>Beauty/Makeup/Lips</td>\n",
       "      <td>Sephora</td>\n",
       "      <td>14</td>\n",
       "      <td>0</td>\n",
       "      <td>Matte liquid lipstick Brand new in box Dries t...</td>\n",
       "    </tr>\n",
       "    <tr>\n",
       "      <th>4</th>\n",
       "      <td>' BLIMEY LIMEY ' LOOSE GLITTER</td>\n",
       "      <td>2</td>\n",
       "      <td>Beauty/Makeup/Makeup Sets</td>\n",
       "      <td>NaN</td>\n",
       "      <td>5</td>\n",
       "      <td>1</td>\n",
       "      <td>COSMETIC LOOSE GLITTER! SPARKLES And SHINES!! ...</td>\n",
       "    </tr>\n",
       "  </tbody>\n",
       "</table>\n",
       "</div>"
      ],
      "text/plain": [
       "                                      Name  Condition  \\\n",
       "0  - \"Litty\" Available in Multi Plus Sizes          1   \n",
       "1       --- 2 pcs great universal earphone          1   \n",
       "2          ' BARE WITH ME ' DOSE OF COLORS          1   \n",
       "3              ' BERRY ME ' DOSE OF COLORS          1   \n",
       "4           ' BLIMEY LIMEY ' LOOSE GLITTER          2   \n",
       "\n",
       "                                          Category    Brand  Price  Shipping  \\\n",
       "0                      Women/Tops & Blouses/Blouse      NaN     21         0   \n",
       "1  Electronics/TV, Audio & Surveillance/Headphones      NaN     10         1   \n",
       "2                               Beauty/Makeup/Lips  Sephora     14         1   \n",
       "3                               Beauty/Makeup/Lips  Sephora     14         0   \n",
       "4                        Beauty/Makeup/Makeup Sets      NaN      5         1   \n",
       "\n",
       "                                    Item Description  \n",
       "0  - Blue , Distressed Top . Comes in 1x , 2x & 3...  \n",
       "1  Brand new best quality headphones for iphone6s...  \n",
       "2  Liquid matte lipstick Beautiful nude color Bra...  \n",
       "3  Matte liquid lipstick Brand new in box Dries t...  \n",
       "4  COSMETIC LOOSE GLITTER! SPARKLES And SHINES!! ...  "
      ]
     },
     "execution_count": 5,
     "metadata": {},
     "output_type": "execute_result"
    }
   ],
   "source": [
    "#Fetching a preview of the dataset to make sure it was imported correctly without complications\n",
    "mercari_data.head()"
   ]
  },
  {
   "cell_type": "code",
   "execution_count": 6,
   "metadata": {},
   "outputs": [
    {
     "name": "stdout",
     "output_type": "stream",
     "text": [
      "<class 'pandas.core.frame.DataFrame'>\n",
      "Index: 1048575 entries, 0 to 1048574\n",
      "Data columns (total 7 columns):\n",
      " #   Column            Non-Null Count    Dtype \n",
      "---  ------            --------------    ----- \n",
      " 0   Name              1048575 non-null  object\n",
      " 1   Condition         1048575 non-null  int64 \n",
      " 2   Category          1044072 non-null  object\n",
      " 3   Brand             601240 non-null   object\n",
      " 4   Price             1048575 non-null  int64 \n",
      " 5   Shipping          1048575 non-null  int64 \n",
      " 6   Item Description  1048573 non-null  object\n",
      "dtypes: int64(3), object(4)\n",
      "memory usage: 64.0+ MB\n"
     ]
    }
   ],
   "source": [
    "#Checking the data type of each column\n",
    "mercari_data.info()"
   ]
  },
  {
   "cell_type": "code",
   "execution_count": 7,
   "metadata": {},
   "outputs": [
    {
     "data": {
      "text/plain": [
       "Name                0.000000\n",
       "Condition           0.000000\n",
       "Category            0.004294\n",
       "Brand               0.426612\n",
       "Price               0.000000\n",
       "Shipping            0.000000\n",
       "Item Description    0.000002\n",
       "dtype: float64"
      ]
     },
     "execution_count": 7,
     "metadata": {},
     "output_type": "execute_result"
    }
   ],
   "source": [
    "#Checking to see how many missing values our dataset currently has.\n",
    "mercari_data.isnull().mean()"
   ]
  },
  {
   "cell_type": "markdown",
   "metadata": {},
   "source": [
    "Seems like there are an abundance of missing values in the brand_name column, just a few in category_name,\n",
    "and just a handful in item_description"
   ]
  },
  {
   "cell_type": "code",
   "execution_count": 8,
   "metadata": {},
   "outputs": [
    {
     "data": {
      "text/html": [
       "<div>\n",
       "<style scoped>\n",
       "    .dataframe tbody tr th:only-of-type {\n",
       "        vertical-align: middle;\n",
       "    }\n",
       "\n",
       "    .dataframe tbody tr th {\n",
       "        vertical-align: top;\n",
       "    }\n",
       "\n",
       "    .dataframe thead th {\n",
       "        text-align: right;\n",
       "    }\n",
       "</style>\n",
       "<table border=\"1\" class=\"dataframe\">\n",
       "  <thead>\n",
       "    <tr style=\"text-align: right;\">\n",
       "      <th></th>\n",
       "      <th>count</th>\n",
       "      <th>%</th>\n",
       "    </tr>\n",
       "  </thead>\n",
       "  <tbody>\n",
       "    <tr>\n",
       "      <th>Brand</th>\n",
       "      <td>447335</td>\n",
       "      <td>42.661231</td>\n",
       "    </tr>\n",
       "    <tr>\n",
       "      <th>Category</th>\n",
       "      <td>4503</td>\n",
       "      <td>0.429440</td>\n",
       "    </tr>\n",
       "    <tr>\n",
       "      <th>Item Description</th>\n",
       "      <td>2</td>\n",
       "      <td>0.000191</td>\n",
       "    </tr>\n",
       "    <tr>\n",
       "      <th>Name</th>\n",
       "      <td>0</td>\n",
       "      <td>0.000000</td>\n",
       "    </tr>\n",
       "    <tr>\n",
       "      <th>Condition</th>\n",
       "      <td>0</td>\n",
       "      <td>0.000000</td>\n",
       "    </tr>\n",
       "    <tr>\n",
       "      <th>Price</th>\n",
       "      <td>0</td>\n",
       "      <td>0.000000</td>\n",
       "    </tr>\n",
       "    <tr>\n",
       "      <th>Shipping</th>\n",
       "      <td>0</td>\n",
       "      <td>0.000000</td>\n",
       "    </tr>\n",
       "  </tbody>\n",
       "</table>\n",
       "</div>"
      ],
      "text/plain": [
       "                   count          %\n",
       "Brand             447335  42.661231\n",
       "Category            4503   0.429440\n",
       "Item Description       2   0.000191\n",
       "Name                   0   0.000000\n",
       "Condition              0   0.000000\n",
       "Price                  0   0.000000\n",
       "Shipping               0   0.000000"
      ]
     },
     "execution_count": 8,
     "metadata": {},
     "output_type": "execute_result"
    }
   ],
   "source": [
    "#Now to find out exactly how many values are missing in each column\n",
    "missing = pd.concat([mercari_data.isnull().sum(), 100 * mercari_data.isnull().mean()], axis=1)\n",
    "missing.columns=['count', '%']\n",
    "missing.sort_values(by='count', ascending=False)"
   ]
  },
  {
   "cell_type": "code",
   "execution_count": 9,
   "metadata": {},
   "outputs": [
    {
     "data": {
      "text/plain": [
       "Bundle                                      1572\n",
       "Reserved                                     325\n",
       "Dress                                        312\n",
       "Converse                                     303\n",
       "BUNDLE                                       303\n",
       "                                            ... \n",
       "FLASH SALE! WOODEN KITCHEN PLAY SET USED       1\n",
       "10 dress bundle for willow wonka               1\n",
       "Delta Zeta notebook set                        1\n",
       "Classic 925 Silver Pandora Bracelet 16cm       1\n",
       "Kay jeweler sterling silver ring               1\n",
       "Name: Name, Length: 886108, dtype: int64"
      ]
     },
     "execution_count": 9,
     "metadata": {},
     "output_type": "execute_result"
    }
   ],
   "source": [
    "#Looking at the amount of listings with identical names\n",
    "mercari_data['Name'].value_counts()"
   ]
  },
  {
   "cell_type": "code",
   "execution_count": 10,
   "metadata": {},
   "outputs": [
    {
     "data": {
      "text/plain": [
       "Women/Athletic Apparel/Pants, Tights, Leggings    42262\n",
       "Women/Tops & Blouses/T-Shirts                     32736\n",
       "Beauty/Makeup/Face                                24267\n",
       "Beauty/Makeup/Lips                                21136\n",
       "Electronics/Video Games & Consoles/Games          18737\n",
       "                                                  ...  \n",
       "Handmade/Candles/Scrapbooking                         1\n",
       "Handmade/Geekery/Housewares                           1\n",
       "Vintage & Collectibles/Housewares/Towel               1\n",
       "Home/Bath/Bathroom Shelves                            1\n",
       "Kids/Diapering/Washcloths & Towels                    1\n",
       "Name: Category, Length: 1258, dtype: int64"
      ]
     },
     "execution_count": 10,
     "metadata": {},
     "output_type": "execute_result"
    }
   ],
   "source": [
    "#Investigating how many total categories there are\n",
    "mercari_data['Category'].value_counts()"
   ]
  },
  {
   "cell_type": "markdown",
   "metadata": {},
   "source": [
    "There appear to be 1258 categories total, with a large variety of items per category"
   ]
  },
  {
   "cell_type": "code",
   "execution_count": 11,
   "metadata": {},
   "outputs": [
    {
     "data": {
      "text/plain": [
       "Lularoe TC leggings - Women/Athletic Apparel/Pants, Tights, Leggings                                     188\n",
       "Converse - Women/Shoes/Fashion Sneakers                                                                  179\n",
       "Coach wallet - Women/Women's Accessories/Wallets                                                         176\n",
       "Michael Kors Wallet - Women/Women's Accessories/Wallets                                                  160\n",
       "Miss Me Jeans - Women/Jeans/Boot Cut                                                                     158\n",
       "                                                                                                        ... \n",
       "Michael Kors glasses case - Other/Other/Other                                                              1\n",
       "Comics- Lobo - 4 Total- All NM condition - Vintage & Collectibles/Book/Comics                              1\n",
       "Wipe wormer - Kids/Diapering/Wipes & Holders                                                               1\n",
       "Lularoe XS Perfect T and OS Leggings - Women/Athletic Apparel/Pants, Tights, Leggings                      1\n",
       "JVC car stereo, cassette, and CD player - Electronics/Car Audio, Video & GPS/Car Stereos & Components      1\n",
       "Length: 916716, dtype: int64"
      ]
     },
     "execution_count": 11,
     "metadata": {},
     "output_type": "execute_result"
    }
   ],
   "source": [
    "# Checking even further to see if there are any listings with the same name and category\n",
    "(mercari_data['Name'] + ' - ' + mercari_data['Category']).value_counts()"
   ]
  },
  {
   "cell_type": "markdown",
   "metadata": {},
   "source": [
    "Majority of listings have a unique name - category pairing"
   ]
  },
  {
   "cell_type": "code",
   "execution_count": 12,
   "metadata": {},
   "outputs": [
    {
     "name": "stdout",
     "output_type": "stream",
     "text": [
      "Category\n",
      "Handmade/Bags and Purses/Clutch                           212.500000\n",
      "Vintage & Collectibles/Antique/Furniture                  195.000000\n",
      "Kids/Strollers/Standard                                   185.600000\n",
      "Electronics/Computers & Tablets/Laptops & Netbooks        176.050633\n",
      "Electronics/Computers & Tablets/Desktops & All-In-Ones    166.596330\n",
      "                                                             ...    \n",
      "Handmade/Candles/Sticker                                    5.000000\n",
      "Kids/Diapering/Washcloths & Towels                          4.000000\n",
      "Handmade/Children/Jewelry                                   3.333333\n",
      "Vintage & Collectibles/Electronics/Game                     3.000000\n",
      "Handmade/Accessories/Necktie                                3.000000\n",
      "Name: Price, Length: 1258, dtype: float64\n"
     ]
    }
   ],
   "source": [
    "#Lets take a look at average price per category from highest to lowest: \n",
    "\n",
    "category_price_means = mercari_data.groupby('Category')['Price'].mean().sort_values(ascending=False)\n",
    "print(category_price_means)"
   ]
  },
  {
   "cell_type": "markdown",
   "metadata": {},
   "source": [
    "To preface, product Condition is given on a scale from 1-5, 1 being best condition, 5 being worst. Shipping is 1 \n",
    "if fees are paid by sellers and 0 if paid by buyers. \n",
    "Here we can see the breakdown of conditions among listing, which is the most informative of the histograms. From \n",
    "the Price histogram all we can see is that the highest priced listing is around 2000, while the vast majority of \n",
    "listings fall between 0 and 200 dollars in price. The Shipping histogram then tells us that it's roughly half and \n",
    "half between sellers or buyers paying for shipping."
   ]
  },
  {
   "cell_type": "code",
   "execution_count": 13,
   "metadata": {},
   "outputs": [
    {
     "data": {
      "image/png": "[encoded data removed]",
      "text/plain": [
       "<Figure size 1080x720 with 4 Axes>"
      ]
     },
     "metadata": {
      "needs_background": "light"
     },
     "output_type": "display_data"
    }
   ],
   "source": [
    "#Histograms of numeric features\n",
    "mercari_data.hist(figsize=(15, 10))\n",
    "plt.subplots_adjust(hspace=0.5);"
   ]
  },
  {
   "cell_type": "markdown",
   "metadata": {},
   "source": [
    "Looks like we don't have any values that are invalid."
   ]
  },
  {
   "cell_type": "code",
   "execution_count": 47,
   "metadata": {},
   "outputs": [
    {
     "data": {
      "text/plain": [
       "7292"
      ]
     },
     "execution_count": 47,
     "metadata": {},
     "output_type": "execute_result"
    }
   ],
   "source": [
    "price_thresholds = [200, 500, 1000, 2000]\n",
    "mercari_data['Price'][mercari_data['Price'] > 200].count()"
   ]
  },
  {
   "cell_type": "markdown",
   "metadata": {},
   "source": [
    "We need to decide what to do about the missing values in the Category and Brand columns. I believe it would be \n",
    "simplest to just fill in missing Category values with \"Uncategorized\" and missing \"Brand\" values with \"Nonbranded\".\n",
    "Might as well take care of the 2 missing item descriptions too."
   ]
  },
  {
   "cell_type": "code",
   "execution_count": 48,
   "metadata": {},
   "outputs": [],
   "source": [
    "mercari_data['Brand'].fillna(\"Unbranded\", inplace=True)\n",
    "mercari_data['Category'].fillna(\"Uncategorized\", inplace=True)\n",
    "mercari_data['Item Description'].fillna(\"No Description\", inplace=True)"
   ]
  },
  {
   "cell_type": "code",
   "execution_count": 49,
   "metadata": {},
   "outputs": [
    {
     "data": {
      "text/html": [
       "<div>\n",
       "<style scoped>\n",
       "    .dataframe tbody tr th:only-of-type {\n",
       "        vertical-align: middle;\n",
       "    }\n",
       "\n",
       "    .dataframe tbody tr th {\n",
       "        vertical-align: top;\n",
       "    }\n",
       "\n",
       "    .dataframe thead th {\n",
       "        text-align: right;\n",
       "    }\n",
       "</style>\n",
       "<table border=\"1\" class=\"dataframe\">\n",
       "  <thead>\n",
       "    <tr style=\"text-align: right;\">\n",
       "      <th></th>\n",
       "      <th>count</th>\n",
       "      <th>%</th>\n",
       "    </tr>\n",
       "  </thead>\n",
       "  <tbody>\n",
       "    <tr>\n",
       "      <th>Name</th>\n",
       "      <td>0</td>\n",
       "      <td>0.0</td>\n",
       "    </tr>\n",
       "    <tr>\n",
       "      <th>Condition</th>\n",
       "      <td>0</td>\n",
       "      <td>0.0</td>\n",
       "    </tr>\n",
       "    <tr>\n",
       "      <th>Category</th>\n",
       "      <td>0</td>\n",
       "      <td>0.0</td>\n",
       "    </tr>\n",
       "    <tr>\n",
       "      <th>Brand</th>\n",
       "      <td>0</td>\n",
       "      <td>0.0</td>\n",
       "    </tr>\n",
       "    <tr>\n",
       "      <th>Price</th>\n",
       "      <td>0</td>\n",
       "      <td>0.0</td>\n",
       "    </tr>\n",
       "    <tr>\n",
       "      <th>Shipping</th>\n",
       "      <td>0</td>\n",
       "      <td>0.0</td>\n",
       "    </tr>\n",
       "    <tr>\n",
       "      <th>Item Description</th>\n",
       "      <td>0</td>\n",
       "      <td>0.0</td>\n",
       "    </tr>\n",
       "  </tbody>\n",
       "</table>\n",
       "</div>"
      ],
      "text/plain": [
       "                  count    %\n",
       "Name                  0  0.0\n",
       "Condition             0  0.0\n",
       "Category              0  0.0\n",
       "Brand                 0  0.0\n",
       "Price                 0  0.0\n",
       "Shipping              0  0.0\n",
       "Item Description      0  0.0"
      ]
     },
     "execution_count": 49,
     "metadata": {},
     "output_type": "execute_result"
    }
   ],
   "source": [
    "# Verifying the data doesn't have NaN values anymore\n",
    "missing = pd.concat([mercari_data.isnull().sum(), 100 * mercari_data.isnull().mean()], axis=1)\n",
    "missing.columns=['count', '%']\n",
    "missing.sort_values(by='count', ascending=False)"
   ]
  },
  {
   "cell_type": "code",
   "execution_count": 50,
   "metadata": {},
   "outputs": [
    {
     "data": {
      "text/html": [
       "<div>\n",
       "<style scoped>\n",
       "    .dataframe tbody tr th:only-of-type {\n",
       "        vertical-align: middle;\n",
       "    }\n",
       "\n",
       "    .dataframe tbody tr th {\n",
       "        vertical-align: top;\n",
       "    }\n",
       "\n",
       "    .dataframe thead th {\n",
       "        text-align: right;\n",
       "    }\n",
       "</style>\n",
       "<table border=\"1\" class=\"dataframe\">\n",
       "  <thead>\n",
       "    <tr style=\"text-align: right;\">\n",
       "      <th></th>\n",
       "      <th>Name</th>\n",
       "      <th>Condition</th>\n",
       "      <th>Category</th>\n",
       "      <th>Brand</th>\n",
       "      <th>Price</th>\n",
       "      <th>Shipping</th>\n",
       "      <th>Item Description</th>\n",
       "    </tr>\n",
       "  </thead>\n",
       "  <tbody>\n",
       "    <tr>\n",
       "      <th>2403</th>\n",
       "      <td>(20) 10x13 daisy polymailer</td>\n",
       "      <td>1</td>\n",
       "      <td>Other/Office supplies/Shipping Supplies</td>\n",
       "      <td>Unbranded</td>\n",
       "      <td>6</td>\n",
       "      <td>1</td>\n",
       "      <td>- 20 pieces of 10x13 daisy poly mailer *** all...</td>\n",
       "    </tr>\n",
       "    <tr>\n",
       "      <th>2479</th>\n",
       "      <td>(20) Designer 10x13 Shipping Polymailers</td>\n",
       "      <td>1</td>\n",
       "      <td>Other/Office supplies/Shipping Supplies</td>\n",
       "      <td>Unbranded</td>\n",
       "      <td>6</td>\n",
       "      <td>1</td>\n",
       "      <td>â€¢â€¢â€¢â€¢Free Shippingâ€¢â€¢â€¢â€¢ â€¢â€¢Pi...</td>\n",
       "    </tr>\n",
       "    <tr>\n",
       "      <th>14458</th>\n",
       "      <td>100 - 10X13 PolyMailers</td>\n",
       "      <td>1</td>\n",
       "      <td>Other/Office supplies/Shipping Supplies</td>\n",
       "      <td>Unbranded</td>\n",
       "      <td>16</td>\n",
       "      <td>0</td>\n",
       "      <td>100 - 10X13 Poly Mailers (100 min for pricing,...</td>\n",
       "    </tr>\n",
       "    <tr>\n",
       "      <th>16375</th>\n",
       "      <td>10x iPhone chargers cables</td>\n",
       "      <td>1</td>\n",
       "      <td>Electronics/Cell Phones &amp; Accessories/Cables &amp;...</td>\n",
       "      <td>Unbranded</td>\n",
       "      <td>16</td>\n",
       "      <td>1</td>\n",
       "      <td>cool iPhone necessities kit!!! Includes: 10x c...</td>\n",
       "    </tr>\n",
       "    <tr>\n",
       "      <th>41682</th>\n",
       "      <td>3 IPhone 6/6S Tempered Glass Screen Prot</td>\n",
       "      <td>1</td>\n",
       "      <td>Electronics/Cell Phones &amp; Accessories/Screen P...</td>\n",
       "      <td>Unbranded</td>\n",
       "      <td>10</td>\n",
       "      <td>1</td>\n",
       "      <td>â€¢ iPhone 6 or 6S Tempered Glass Protector â€...</td>\n",
       "    </tr>\n",
       "    <tr>\n",
       "      <th>46178</th>\n",
       "      <td>30 pcs Shipping Labels</td>\n",
       "      <td>1</td>\n",
       "      <td>Other/Office supplies/Shipping Supplies</td>\n",
       "      <td>Unbranded</td>\n",
       "      <td>6</td>\n",
       "      <td>1</td>\n",
       "      <td>These are Self Adhesive Shipping Stickers with...</td>\n",
       "    </tr>\n",
       "    <tr>\n",
       "      <th>60018</th>\n",
       "      <td>5ft braided aux cord auxiliary cable</td>\n",
       "      <td>1</td>\n",
       "      <td>Electronics/Cell Phones &amp; Accessories/Cables &amp;...</td>\n",
       "      <td>Unbranded</td>\n",
       "      <td>6</td>\n",
       "      <td>1</td>\n",
       "      <td>Metal tips for added durability, plus 5ft so y...</td>\n",
       "    </tr>\n",
       "    <tr>\n",
       "      <th>132075</th>\n",
       "      <td>Baltimore Ravens bracelet football NFL</td>\n",
       "      <td>1</td>\n",
       "      <td>Women/Jewelry/Bracelets</td>\n",
       "      <td>Unbranded</td>\n",
       "      <td>10</td>\n",
       "      <td>1</td>\n",
       "      <td>Brand new free shipping PRICE IF FIRM , VERY F...</td>\n",
       "    </tr>\n",
       "    <tr>\n",
       "      <th>198397</th>\n",
       "      <td>Breast and butt enhancer</td>\n",
       "      <td>1</td>\n",
       "      <td>Beauty/Skin Care/Body</td>\n",
       "      <td>Unbranded</td>\n",
       "      <td>8</td>\n",
       "      <td>1</td>\n",
       "      <td>Original 2 x[rm] 3x [rm] 4x [rm] Only let me k...</td>\n",
       "    </tr>\n",
       "    <tr>\n",
       "      <th>344390</th>\n",
       "      <td>FREE SHIP HIGH QUALITY SILICONE SPONGE</td>\n",
       "      <td>1</td>\n",
       "      <td>Beauty/Makeup/Brushes &amp; Applicators</td>\n",
       "      <td>Unbranded</td>\n",
       "      <td>4</td>\n",
       "      <td>1</td>\n",
       "      <td>Brand new sealed in bag! Fast shipping, US Sel...</td>\n",
       "    </tr>\n",
       "    <tr>\n",
       "      <th>378705</th>\n",
       "      <td>Gold chain 14k gold rope chain 18in 3mm</td>\n",
       "      <td>1</td>\n",
       "      <td>Men/Men's Accessories/Other</td>\n",
       "      <td>Unbranded</td>\n",
       "      <td>14</td>\n",
       "      <td>0</td>\n",
       "      <td>WAS [rm] NOW [rm] FOR LIMITED TIME! High quali...</td>\n",
       "    </tr>\n",
       "    <tr>\n",
       "      <th>427526</th>\n",
       "      <td>Intensive stretch mark removal cream</td>\n",
       "      <td>1</td>\n",
       "      <td>Beauty/Skin Care/Maternity</td>\n",
       "      <td>% Pure</td>\n",
       "      <td>10</td>\n",
       "      <td>0</td>\n",
       "      <td>intensive stretch mark removal cream. A 5 week...</td>\n",
       "    </tr>\n",
       "    <tr>\n",
       "      <th>697051</th>\n",
       "      <td>NWT Boho Black Lace Caged Bralette Small</td>\n",
       "      <td>1</td>\n",
       "      <td>Women/Tops &amp; Blouses/Tank, Cami</td>\n",
       "      <td>Unbranded</td>\n",
       "      <td>14</td>\n",
       "      <td>1</td>\n",
       "      <td>Brand new! Size small. Straps are adjustable! ...</td>\n",
       "    </tr>\n",
       "    <tr>\n",
       "      <th>712583</th>\n",
       "      <td>NYX MATTE FINISH SETTING SPRAY</td>\n",
       "      <td>1</td>\n",
       "      <td>Beauty/Makeup/Face</td>\n",
       "      <td>NYX</td>\n",
       "      <td>10</td>\n",
       "      <td>1</td>\n",
       "      <td>For that fresh matte look that lasts, the NYX ...</td>\n",
       "    </tr>\n",
       "    <tr>\n",
       "      <th>818852</th>\n",
       "      <td>Rose Gold Slime</td>\n",
       "      <td>1</td>\n",
       "      <td>Kids/Toys/Arts &amp; Crafts</td>\n",
       "      <td>Elmers</td>\n",
       "      <td>5</td>\n",
       "      <td>1</td>\n",
       "      <td>Very stretchy 2oz Made to order COMES WITH BOR...</td>\n",
       "    </tr>\n",
       "    <tr>\n",
       "      <th>861717</th>\n",
       "      <td>Soft serve slime</td>\n",
       "      <td>1</td>\n",
       "      <td>Handmade/Children/Toy</td>\n",
       "      <td>Unbranded</td>\n",
       "      <td>5</td>\n",
       "      <td>1</td>\n",
       "      <td>SUPER FLUFFY ALREADY HAVE IT MADE Regular slim...</td>\n",
       "    </tr>\n",
       "    <tr>\n",
       "      <th>865582</th>\n",
       "      <td>SPECIAL!â¤Brilliant Blue+Gemstone Greenâ¤</td>\n",
       "      <td>1</td>\n",
       "      <td>Beauty/Makeup/Eyes</td>\n",
       "      <td>Unbranded</td>\n",
       "      <td>20</td>\n",
       "      <td>1</td>\n",
       "      <td>â¤BUNDLE!!â¤ BRILLIANT BLUE &amp; GEMSTONE GREEN...</td>\n",
       "    </tr>\n",
       "    <tr>\n",
       "      <th>1017855</th>\n",
       "      <td>Wine Lip Tint</td>\n",
       "      <td>1</td>\n",
       "      <td>Beauty/Makeup/Lips</td>\n",
       "      <td>Unbranded</td>\n",
       "      <td>6</td>\n",
       "      <td>1</td>\n",
       "      <td>âœ¨*âœ¨6Shades to choose fromâœ¨* Newâœ¨ Ships...</td>\n",
       "    </tr>\n",
       "  </tbody>\n",
       "</table>\n",
       "</div>"
      ],
      "text/plain": [
       "                                                Name  Condition  \\\n",
       "2403                     (20) 10x13 daisy polymailer          1   \n",
       "2479        (20) Designer 10x13 Shipping Polymailers          1   \n",
       "14458                        100 - 10X13 PolyMailers          1   \n",
       "16375                     10x iPhone chargers cables          1   \n",
       "41682       3 IPhone 6/6S Tempered Glass Screen Prot          1   \n",
       "46178                         30 pcs Shipping Labels          1   \n",
       "60018           5ft braided aux cord auxiliary cable          1   \n",
       "132075        Baltimore Ravens bracelet football NFL          1   \n",
       "198397                      Breast and butt enhancer          1   \n",
       "344390        FREE SHIP HIGH QUALITY SILICONE SPONGE          1   \n",
       "378705       Gold chain 14k gold rope chain 18in 3mm          1   \n",
       "427526          Intensive stretch mark removal cream          1   \n",
       "697051      NWT Boho Black Lace Caged Bralette Small          1   \n",
       "712583                NYX MATTE FINISH SETTING SPRAY          1   \n",
       "818852                               Rose Gold Slime          1   \n",
       "861717                              Soft serve slime          1   \n",
       "865582   SPECIAL!â¤Brilliant Blue+Gemstone Greenâ¤          1   \n",
       "1017855                                Wine Lip Tint          1   \n",
       "\n",
       "                                                  Category      Brand  Price  \\\n",
       "2403               Other/Office supplies/Shipping Supplies  Unbranded      6   \n",
       "2479               Other/Office supplies/Shipping Supplies  Unbranded      6   \n",
       "14458              Other/Office supplies/Shipping Supplies  Unbranded     16   \n",
       "16375    Electronics/Cell Phones & Accessories/Cables &...  Unbranded     16   \n",
       "41682    Electronics/Cell Phones & Accessories/Screen P...  Unbranded     10   \n",
       "46178              Other/Office supplies/Shipping Supplies  Unbranded      6   \n",
       "60018    Electronics/Cell Phones & Accessories/Cables &...  Unbranded      6   \n",
       "132075                             Women/Jewelry/Bracelets  Unbranded     10   \n",
       "198397                               Beauty/Skin Care/Body  Unbranded      8   \n",
       "344390                 Beauty/Makeup/Brushes & Applicators  Unbranded      4   \n",
       "378705                         Men/Men's Accessories/Other  Unbranded     14   \n",
       "427526                          Beauty/Skin Care/Maternity     % Pure     10   \n",
       "697051                     Women/Tops & Blouses/Tank, Cami  Unbranded     14   \n",
       "712583                                  Beauty/Makeup/Face        NYX     10   \n",
       "818852                             Kids/Toys/Arts & Crafts     Elmers      5   \n",
       "861717                               Handmade/Children/Toy  Unbranded      5   \n",
       "865582                                  Beauty/Makeup/Eyes  Unbranded     20   \n",
       "1017855                                 Beauty/Makeup/Lips  Unbranded      6   \n",
       "\n",
       "         Shipping                                   Item Description  \n",
       "2403            1  - 20 pieces of 10x13 daisy poly mailer *** all...  \n",
       "2479            1  â€¢â€¢â€¢â€¢Free Shippingâ€¢â€¢â€¢â€¢ â€¢â€¢Pi...  \n",
       "14458           0  100 - 10X13 Poly Mailers (100 min for pricing,...  \n",
       "16375           1  cool iPhone necessities kit!!! Includes: 10x c...  \n",
       "41682           1  â€¢ iPhone 6 or 6S Tempered Glass Protector â€...  \n",
       "46178           1  These are Self Adhesive Shipping Stickers with...  \n",
       "60018           1  Metal tips for added durability, plus 5ft so y...  \n",
       "132075          1  Brand new free shipping PRICE IF FIRM , VERY F...  \n",
       "198397          1  Original 2 x[rm] 3x [rm] 4x [rm] Only let me k...  \n",
       "344390          1  Brand new sealed in bag! Fast shipping, US Sel...  \n",
       "378705          0  WAS [rm] NOW [rm] FOR LIMITED TIME! High quali...  \n",
       "427526          0  intensive stretch mark removal cream. A 5 week...  \n",
       "697051          1  Brand new! Size small. Straps are adjustable! ...  \n",
       "712583          1  For that fresh matte look that lasts, the NYX ...  \n",
       "818852          1  Very stretchy 2oz Made to order COMES WITH BOR...  \n",
       "861717          1  SUPER FLUFFY ALREADY HAVE IT MADE Regular slim...  \n",
       "865582          1  â¤BUNDLE!!â¤ BRILLIANT BLUE & GEMSTONE GREEN...  \n",
       "1017855         1  âœ¨*âœ¨6Shades to choose fromâœ¨* Newâœ¨ Ships...  "
      ]
     },
     "execution_count": 50,
     "metadata": {},
     "output_type": "execute_result"
    }
   ],
   "source": [
    "# Check for duplicate listings\n",
    "\n",
    "duplicateRowsDF = mercari_data[mercari_data.duplicated()]\n",
    "duplicateRowsDF"
   ]
  },
  {
   "cell_type": "code",
   "execution_count": 14,
   "metadata": {},
   "outputs": [],
   "source": [
    "mercari_data.to_csv('MercariDataCleaned.csv')"
   ]
  },
  {
   "cell_type": "code",
   "execution_count": null,
   "metadata": {},
   "outputs": [],
   "source": []
  }
 ],
 "metadata": {
  "kernelspec": {
   "display_name": "Python 3",
   "language": "python",
   "name": "python3"
  },
  "language_info": {
   "codemirror_mode": {
    "name": "ipython",
    "version": 3
   },
   "file_extension": ".py",
   "mimetype": "text/x-python",
   "name": "python",
   "nbconvert_exporter": "python",
   "pygments_lexer": "ipython3",
   "version": "3.7.6"
  }
 },
 "nbformat": 4,
 "nbformat_minor": 4
}
