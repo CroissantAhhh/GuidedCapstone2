{
 "cells": [
  {
   "cell_type": "markdown",
   "metadata": {},
   "source": [
    "# Mercari Data Capstone Project - Data Wrangling"
   ]
  },
  {
   "cell_type": "markdown",
   "metadata": {},
   "source": [
    "The objective for this portion of the project is to load in the raw data set that we will be analyzing, understand each of the columns and what they represent, and to then clean up any missing or invalid values. Fortunately because we are only loading in data from a single csv file, we won't have to go through the trouble of joining together several disjointed tables together."
   ]
  },
  {
   "cell_type": "markdown",
   "metadata": {},
   "source": [
    "# Background"
   ]
  },
  {
   "cell_type": "markdown",
   "metadata": {},
   "source": [
    "Mercari is an online shopping website where sellers are able to freely set their own prices on products. Unlike for example Amazon, sellers on Mercari are all individuals rather than companies, who already know what prices to place on their products. Therefore, determining prices is more tricky for these individual sellers on Mercari. Not only do they need to take into account the branding and the quality of their item, but also its current condition. Our goal is to provide Mercari with more insight as to how to automatically suggest appropriate prices to their sellers."
   ]
  },
  {
   "cell_type": "code",
   "execution_count": 2,
   "metadata": {},
   "outputs": [],
   "source": [
    "#Imports\n",
    "import pandas as pd\n",
    "import matplotlib.pyplot as plt\n",
    "import seaborn as sns\n",
    "import os\n",
    "import numpy as np"
   ]
  },
  {
   "cell_type": "code",
   "execution_count": 3,
   "metadata": {},
   "outputs": [],
   "source": [
    "#Reading in Data\n",
    "path = \"/Users/jasonzhou/Documents/GuidedCapstone2\"\n",
    "os.chdir(path)\n",
    "mercari_data = pd.read_csv(\"TrainMercari.csv\")\n",
    "mercari_data = mercari_data.rename(index=str, columns = {\"name\":\"Name\", \"item_condition_id\":\"Condition\",\n",
    "                                                        \"category_name\":\"Category\", \"brand_name\":\"Brand\",\n",
    "                                                        \"price\":\"Price\", \"shipping\":\"Shipping\",\n",
    "                                                        \"item_description\":\"Item Description\"})\n",
    "mercari_data = mercari_data.drop(columns=['train_id'])"
   ]
  },
  {
   "cell_type": "code",
   "execution_count": 3,
   "metadata": {},
   "outputs": [
    {
     "data": {
      "text/plain": [
       "(1048575, 7)"
      ]
     },
     "execution_count": 3,
     "metadata": {},
     "output_type": "execute_result"
    }
   ],
   "source": [
    "# Determining number of rows and columns\n",
    "mercari_data.shape"
   ]
  },
  {
   "cell_type": "code",
   "execution_count": 4,
   "metadata": {},
   "outputs": [
    {
     "data": {
      "text/html": [
       "<div>\n",
       "<style scoped>\n",
       "    .dataframe tbody tr th:only-of-type {\n",
       "        vertical-align: middle;\n",
       "    }\n",
       "\n",
       "    .dataframe tbody tr th {\n",
       "        vertical-align: top;\n",
       "    }\n",
       "\n",
       "    .dataframe thead th {\n",
       "        text-align: right;\n",
       "    }\n",
       "</style>\n",
       "<table border=\"1\" class=\"dataframe\">\n",
       "  <thead>\n",
       "    <tr style=\"text-align: right;\">\n",
       "      <th></th>\n",
       "      <th>Name</th>\n",
       "      <th>Condition</th>\n",
       "      <th>Category</th>\n",
       "      <th>Brand</th>\n",
       "      <th>Price</th>\n",
       "      <th>Shipping</th>\n",
       "      <th>Item Description</th>\n",
       "    </tr>\n",
       "  </thead>\n",
       "  <tbody>\n",
       "    <tr>\n",
       "      <th>0</th>\n",
       "      <td>- \"Litty\" Available in Multi Plus Sizes</td>\n",
       "      <td>1</td>\n",
       "      <td>Women/Tops &amp; Blouses/Blouse</td>\n",
       "      <td>NaN</td>\n",
       "      <td>21</td>\n",
       "      <td>0</td>\n",
       "      <td>- Blue , Distressed Top . Comes in 1x , 2x &amp; 3...</td>\n",
       "    </tr>\n",
       "    <tr>\n",
       "      <th>1</th>\n",
       "      <td>--- 2 pcs great universal earphone</td>\n",
       "      <td>1</td>\n",
       "      <td>Electronics/TV, Audio &amp; Surveillance/Headphones</td>\n",
       "      <td>NaN</td>\n",
       "      <td>10</td>\n",
       "      <td>1</td>\n",
       "      <td>Brand new best quality headphones for iphone6s...</td>\n",
       "    </tr>\n",
       "    <tr>\n",
       "      <th>2</th>\n",
       "      <td>' BARE WITH ME ' DOSE OF COLORS</td>\n",
       "      <td>1</td>\n",
       "      <td>Beauty/Makeup/Lips</td>\n",
       "      <td>Sephora</td>\n",
       "      <td>14</td>\n",
       "      <td>1</td>\n",
       "      <td>Liquid matte lipstick Beautiful nude color Bra...</td>\n",
       "    </tr>\n",
       "    <tr>\n",
       "      <th>3</th>\n",
       "      <td>' BERRY ME ' DOSE OF COLORS</td>\n",
       "      <td>1</td>\n",
       "      <td>Beauty/Makeup/Lips</td>\n",
       "      <td>Sephora</td>\n",
       "      <td>14</td>\n",
       "      <td>0</td>\n",
       "      <td>Matte liquid lipstick Brand new in box Dries t...</td>\n",
       "    </tr>\n",
       "    <tr>\n",
       "      <th>4</th>\n",
       "      <td>' BLIMEY LIMEY ' LOOSE GLITTER</td>\n",
       "      <td>2</td>\n",
       "      <td>Beauty/Makeup/Makeup Sets</td>\n",
       "      <td>NaN</td>\n",
       "      <td>5</td>\n",
       "      <td>1</td>\n",
       "      <td>COSMETIC LOOSE GLITTER! SPARKLES And SHINES!! ...</td>\n",
       "    </tr>\n",
       "  </tbody>\n",
       "</table>\n",
       "</div>"
      ],
      "text/plain": [
       "                                      Name  Condition  \\\n",
       "0  - \"Litty\" Available in Multi Plus Sizes          1   \n",
       "1       --- 2 pcs great universal earphone          1   \n",
       "2          ' BARE WITH ME ' DOSE OF COLORS          1   \n",
       "3              ' BERRY ME ' DOSE OF COLORS          1   \n",
       "4           ' BLIMEY LIMEY ' LOOSE GLITTER          2   \n",
       "\n",
       "                                          Category    Brand  Price  Shipping  \\\n",
       "0                      Women/Tops & Blouses/Blouse      NaN     21         0   \n",
       "1  Electronics/TV, Audio & Surveillance/Headphones      NaN     10         1   \n",
       "2                               Beauty/Makeup/Lips  Sephora     14         1   \n",
       "3                               Beauty/Makeup/Lips  Sephora     14         0   \n",
       "4                        Beauty/Makeup/Makeup Sets      NaN      5         1   \n",
       "\n",
       "                                    Item Description  \n",
       "0  - Blue , Distressed Top . Comes in 1x , 2x & 3...  \n",
       "1  Brand new best quality headphones for iphone6s...  \n",
       "2  Liquid matte lipstick Beautiful nude color Bra...  \n",
       "3  Matte liquid lipstick Brand new in box Dries t...  \n",
       "4  COSMETIC LOOSE GLITTER! SPARKLES And SHINES!! ...  "
      ]
     },
     "execution_count": 4,
     "metadata": {},
     "output_type": "execute_result"
    }
   ],
   "source": [
    "#Fetching a preview of the dataset to make sure it was imported correctly without complications\n",
    "mercari_data.head()"
   ]
  },
  {
   "cell_type": "markdown",
   "metadata": {},
   "source": [
    "# Data - Column Descriptions"
   ]
  },
  {
   "cell_type": "markdown",
   "metadata": {},
   "source": [
    "So it appears that our data is simply a large row of item listings on Mercari, and its columns are pretty straightforward. Here is a description for each:\n",
    "\n",
    "Name: name of the listing\n",
    "\n",
    "Condition: the condition that the item is in. Condition is rated on a scale from 1 to 5, with 1 being the highest rating and 5 being the lowest\n",
    "\n",
    "Category: the category that the item falls under. Examples include electronics, fashion, household, with even more specific subcategories and so on\n",
    "\n",
    "Brand: the brand of the item, if applicable. Examples include Nike, Sephora, lululemon, Apple, etc.\n",
    "\n",
    "Price: the amount of payment that the buyer pays to the seller\n",
    "\n",
    "Shipping: whether or not the seller is paying for shipping. The value of \"shipping\" is \"0\" if the seller is not paying for shipping fees, and is \"1\" if they are\n",
    "\n",
    "Item Description: a short summary of the item, if applicable\n",
    "\n",
    "As our first step into our table, lets just call a quick .describe() function on it"
   ]
  },
  {
   "cell_type": "code",
   "execution_count": 5,
   "metadata": {},
   "outputs": [
    {
     "data": {
      "text/html": [
       "<div>\n",
       "<style scoped>\n",
       "    .dataframe tbody tr th:only-of-type {\n",
       "        vertical-align: middle;\n",
       "    }\n",
       "\n",
       "    .dataframe tbody tr th {\n",
       "        vertical-align: top;\n",
       "    }\n",
       "\n",
       "    .dataframe thead th {\n",
       "        text-align: right;\n",
       "    }\n",
       "</style>\n",
       "<table border=\"1\" class=\"dataframe\">\n",
       "  <thead>\n",
       "    <tr style=\"text-align: right;\">\n",
       "      <th></th>\n",
       "      <th>Condition</th>\n",
       "      <th>Price</th>\n",
       "      <th>Shipping</th>\n",
       "    </tr>\n",
       "  </thead>\n",
       "  <tbody>\n",
       "    <tr>\n",
       "      <th>count</th>\n",
       "      <td>1048575.00000</td>\n",
       "      <td>1048575.00000</td>\n",
       "      <td>1048575.00000</td>\n",
       "    </tr>\n",
       "    <tr>\n",
       "      <th>mean</th>\n",
       "      <td>1.90743</td>\n",
       "      <td>26.73614</td>\n",
       "      <td>0.44741</td>\n",
       "    </tr>\n",
       "    <tr>\n",
       "      <th>std</th>\n",
       "      <td>0.90308</td>\n",
       "      <td>38.58335</td>\n",
       "      <td>0.49723</td>\n",
       "    </tr>\n",
       "    <tr>\n",
       "      <th>min</th>\n",
       "      <td>1.00000</td>\n",
       "      <td>0.00000</td>\n",
       "      <td>0.00000</td>\n",
       "    </tr>\n",
       "    <tr>\n",
       "      <th>25%</th>\n",
       "      <td>1.00000</td>\n",
       "      <td>10.00000</td>\n",
       "      <td>0.00000</td>\n",
       "    </tr>\n",
       "    <tr>\n",
       "      <th>50%</th>\n",
       "      <td>2.00000</td>\n",
       "      <td>17.00000</td>\n",
       "      <td>0.00000</td>\n",
       "    </tr>\n",
       "    <tr>\n",
       "      <th>75%</th>\n",
       "      <td>3.00000</td>\n",
       "      <td>29.00000</td>\n",
       "      <td>1.00000</td>\n",
       "    </tr>\n",
       "    <tr>\n",
       "      <th>max</th>\n",
       "      <td>5.00000</td>\n",
       "      <td>2009.00000</td>\n",
       "      <td>1.00000</td>\n",
       "    </tr>\n",
       "  </tbody>\n",
       "</table>\n",
       "</div>"
      ],
      "text/plain": [
       "          Condition         Price      Shipping\n",
       "count 1048575.00000 1048575.00000 1048575.00000\n",
       "mean        1.90743      26.73614       0.44741\n",
       "std         0.90308      38.58335       0.49723\n",
       "min         1.00000       0.00000       0.00000\n",
       "25%         1.00000      10.00000       0.00000\n",
       "50%         2.00000      17.00000       0.00000\n",
       "75%         3.00000      29.00000       1.00000\n",
       "max         5.00000    2009.00000       1.00000"
      ]
     },
     "execution_count": 5,
     "metadata": {},
     "output_type": "execute_result"
    }
   ],
   "source": [
    "#Quick Summary of the Data\n",
    "\n",
    "pd.set_option('display.float_format', lambda x: '%.5f' % x)\n",
    "mercari_data.describe()"
   ]
  },
  {
   "cell_type": "markdown",
   "metadata": {},
   "source": [
    "# Investigating Each Column"
   ]
  },
  {
   "cell_type": "markdown",
   "metadata": {},
   "source": [
    "Very quickly this tells us which of our features are numeric. \n",
    "\n",
    "The values of Condition all appear to be valid, with the values all being between 1 and 5. According to the mean, it appears that most items are on average skew more towards being in better condition.\n",
    "\n",
    "Lets get a visual representation of this column:"
   ]
  },
  {
   "cell_type": "code",
   "execution_count": 6,
   "metadata": {},
   "outputs": [
    {
     "data": {
      "image/png": "[encoded data removed]",
      "text/plain": [
       "<Figure size 432x288 with 1 Axes>"
      ]
     },
     "metadata": {
      "needs_background": "light"
     },
     "output_type": "display_data"
    }
   ],
   "source": [
    "conditions = ['1', '2', '3', '4', '5']\n",
    "\n",
    "_ = plt.title(\"Listings by Condition\")\n",
    "_ = plt.xlabel('Condition')\n",
    "_ = plt.ylabel('Number of Listings')\n",
    "_ =plt.bar(conditions, mercari_data['Condition'].value_counts())"
   ]
  },
  {
   "cell_type": "markdown",
   "metadata": {},
   "source": [
    "Now on to Price. Lets start out with a visual representation:"
   ]
  },
  {
   "cell_type": "code",
   "execution_count": 7,
   "metadata": {},
   "outputs": [
    {
     "data": {
      "image/png": "[encoded data removed]",
      "text/plain": [
       "<Figure size 432x288 with 1 Axes>"
      ]
     },
     "metadata": {
      "needs_background": "light"
     },
     "output_type": "display_data"
    }
   ],
   "source": [
    "_ = plt.hist(mercari_data['Price'], bins=100)\n",
    "_ = plt.title(\"Listings by Price\")\n",
    "_ = plt.xlabel('Price')\n",
    "_ = plt.ylabel('Number of Listings')"
   ]
  },
  {
   "cell_type": "markdown",
   "metadata": {},
   "source": [
    "The massive outliers in 'Price' make it rather difficult to see the majority of the histogram clearly. Lets try again, but filter out any price values greater than 3 standard deviations above the mean:"
   ]
  },
  {
   "cell_type": "code",
   "execution_count": 8,
   "metadata": {},
   "outputs": [
    {
     "data": {
      "image/png": "[encoded data removed]",
      "text/plain": [
       "<Figure size 432x288 with 1 Axes>"
      ]
     },
     "metadata": {
      "needs_background": "light"
     },
     "output_type": "display_data"
    }
   ],
   "source": [
    "_ = plt.hist(mercari_data['Price'][mercari_data['Price'] < 26.74 + 3 * 38.58], bins=40)\n",
    "_ = plt.title(\"Listings by Price\")\n",
    "_ = plt.xlabel('Price')\n",
    "_ = plt.ylabel('Number of Listings')"
   ]
  },
  {
   "cell_type": "markdown",
   "metadata": {},
   "source": [
    "The values of Price also appear to all be valid, without any negative price values. Price has, to be honest, a lower mean than I had expected. This is most likely explained by the fact that everything sold on Mercari is typically secondhand. It is apparent that there are a few massive outliers when it comes to Price, because despite the standard deviation being relatively lower and the 75% quartile being close to the mean, the maximum value is around 2000. In fact lets determine how many values fall outside 3 standard deviations above the mean:"
   ]
  },
  {
   "cell_type": "code",
   "execution_count": 9,
   "metadata": {},
   "outputs": [
    {
     "data": {
      "text/plain": [
       "57         186\n",
       "782        150\n",
       "788        239\n",
       "890        215\n",
       "925        167\n",
       "          ... \n",
       "1047943    650\n",
       "1048226    229\n",
       "1048465    165\n",
       "1048527    185\n",
       "1048537    171\n",
       "Name: Price, Length: 15520, dtype: int64"
      ]
     },
     "execution_count": 9,
     "metadata": {},
     "output_type": "execute_result"
    }
   ],
   "source": [
    "mercari_data['Price'][mercari_data['Price'] > 26.74 + 3 * 38.58]"
   ]
  },
  {
   "cell_type": "markdown",
   "metadata": {},
   "source": [
    "We have about 15500 item listings that fall well outside the normal distribution curve. Now to talk about \"Shipping\". Let's get a visual representation first:"
   ]
  },
  {
   "cell_type": "code",
   "execution_count": 10,
   "metadata": {},
   "outputs": [
    {
     "data": {
      "image/png": "[encoded data removed]",
      "text/plain": [
       "<Figure size 432x288 with 1 Axes>"
      ]
     },
     "metadata": {
      "needs_background": "light"
     },
     "output_type": "display_data"
    }
   ],
   "source": [
    "shippings = ['Buyer Pays For', 'Seller Pays For']\n",
    "\n",
    "_ = plt.title(\"Listings by Shipping\")\n",
    "_ = plt.ylabel('Number of Listings')\n",
    "_ =plt.bar(shippings, mercari_data['Shipping'].value_counts())"
   ]
  },
  {
   "cell_type": "markdown",
   "metadata": {},
   "source": [
    "On average, it is more common for the seller to not pay for shipping fees, but not by much. And again, all values of Shipping appear to be valid, with no values that aren't 0 or 1.\n",
    "\n",
    "Now, to look at the Brand column."
   ]
  },
  {
   "cell_type": "code",
   "execution_count": 11,
   "metadata": {},
   "outputs": [
    {
     "data": {
      "text/plain": [
       "Nike                 38161\n",
       "PINK                 38123\n",
       "Victoria's Secret    34159\n",
       "LuLaRoe              21900\n",
       "Apple                12222\n",
       "                     ...  \n",
       "Testament                1\n",
       "Silkland                 1\n",
       "Donna Bella              1\n",
       "Bio Spot                 1\n",
       "Lullaby Earth            1\n",
       "Name: Brand, Length: 4383, dtype: int64"
      ]
     },
     "execution_count": 11,
     "metadata": {},
     "output_type": "execute_result"
    }
   ],
   "source": [
    "mercari_data['Brand'].value_counts()"
   ]
  },
  {
   "cell_type": "markdown",
   "metadata": {},
   "source": [
    "So it appears that we have 4,383 unique brands, with some popular ones like Nike and PINK having a ton of listings, with many presumably less well known brands having very few listings. I'm interested in seeing how many brands have 5 or less listings:"
   ]
  },
  {
   "cell_type": "code",
   "execution_count": 12,
   "metadata": {},
   "outputs": [
    {
     "data": {
      "text/plain": [
       "2475"
      ]
     },
     "execution_count": 12,
     "metadata": {},
     "output_type": "execute_result"
    }
   ],
   "source": [
    "# Find how many brands have a valuecount of less than 5\n",
    "\n",
    "smallbrands = mercari_data[mercari_data['Brand'].isin(mercari_data['Brand'].value_counts()[mercari_data['Brand'].value_counts() <= 5].index)].Brand.unique()\n",
    "len(smallbrands)"
   ]
  },
  {
   "cell_type": "markdown",
   "metadata": {},
   "source": [
    "So roughly half of the unique brands in the entire dataset are at 5 listings or less. Lets now see a more comprehensive breakdown of listings per brand."
   ]
  },
  {
   "cell_type": "code",
   "execution_count": 13,
   "metadata": {},
   "outputs": [],
   "source": [
    "# Same code as last cell but with an array of inputs\n",
    "\n",
    "thresholds = [1, 5, 10, 50, 100, 500, 1000, 5000, 10000]\n",
    "thresholdlabels = ['1', '5', '10', '50', '100', '500', '1000', '5000', '10000']\n",
    "brandcounts = [0] * 9\n",
    "index = 0\n",
    "\n",
    "for threshold in thresholds:\n",
    "    brandcounts[index] = len(mercari_data[mercari_data['Brand'].isin(mercari_data['Brand'].value_counts()[mercari_data['Brand'].value_counts() >= thresholds[index]].index)].Brand.unique())\n",
    "    index += 1\n"
   ]
  },
  {
   "cell_type": "code",
   "execution_count": 15,
   "metadata": {},
   "outputs": [
    {
     "name": "stdout",
     "output_type": "stream",
     "text": [
      "[4383, 2082, 1524, 689, 463, 180, 111, 20, 8]\n"
     ]
    },
    {
     "data": {
      "image/png": "[encoded data removed]",
      "text/plain": [
       "<Figure size 576x576 with 1 Axes>"
      ]
     },
     "metadata": {
      "needs_background": "light"
     },
     "output_type": "display_data"
    }
   ],
   "source": [
    "plt.figure(figsize=(8, 8))\n",
    "plt.xlabel('Amount of Listings (At least)')\n",
    "plt.ylabel('Number of Brands that have at least this many listings')\n",
    "plt.bar(thresholdlabels, brandcounts)\n",
    "\n",
    "print(brandcounts)"
   ]
  },
  {
   "cell_type": "markdown",
   "metadata": {},
   "source": [
    "This graph gives some insight as to what the brand distribution on Mercari roughly is. The site isn't particularly top heavy, as 1500 brands have at least 10 listings and 700 brands have at least 50.\n",
    "\n",
    "Now lets have a look at category."
   ]
  },
  {
   "cell_type": "code",
   "execution_count": 16,
   "metadata": {},
   "outputs": [
    {
     "data": {
      "text/plain": [
       "Women/Athletic Apparel/Pants, Tights, Leggings    42262\n",
       "Women/Tops & Blouses/T-Shirts                     32736\n",
       "Beauty/Makeup/Face                                24267\n",
       "Beauty/Makeup/Lips                                21136\n",
       "Electronics/Video Games & Consoles/Games          18737\n",
       "                                                  ...  \n",
       "Sports & Outdoors/Team Sports/Badminton               1\n",
       "Handmade/Bags and Purses/Diaper Bag                   1\n",
       "Handmade/Housewares/Bathroom                          1\n",
       "Handmade/Weddings/Just Married                        1\n",
       "Handmade/Dolls and Miniatures/Plush                   1\n",
       "Name: Category, Length: 1258, dtype: int64"
      ]
     },
     "execution_count": 16,
     "metadata": {},
     "output_type": "execute_result"
    }
   ],
   "source": [
    "#Investigating how many total categories there are\n",
    "mercari_data['Category'].value_counts()"
   ]
  },
  {
   "cell_type": "markdown",
   "metadata": {},
   "source": [
    "There appear to be 1258 categories total, with a large variety of items per category. Similar to brand, I want to see a breakdown of the distribution of listings by category."
   ]
  },
  {
   "cell_type": "code",
   "execution_count": 17,
   "metadata": {},
   "outputs": [],
   "source": [
    "# Same code as from our 'Brand' work\n",
    "\n",
    "categorycounts = [0] * 9\n",
    "index = 0\n",
    "\n",
    "for threshold in thresholds:\n",
    "    categorycounts[index] = len(mercari_data[mercari_data['Category'].isin(mercari_data['Category'].value_counts()[mercari_data['Category'].value_counts() >= thresholds[index]].index)].Category.unique())\n",
    "    index += 1\n"
   ]
  },
  {
   "cell_type": "code",
   "execution_count": 18,
   "metadata": {},
   "outputs": [
    {
     "name": "stdout",
     "output_type": "stream",
     "text": [
      "[1258, 1031, 915, 654, 544, 297, 188, 55, 24]\n"
     ]
    },
    {
     "data": {
      "image/png": "[encoded data removed]",
      "text/plain": [
       "<Figure size 576x576 with 1 Axes>"
      ]
     },
     "metadata": {
      "needs_background": "light"
     },
     "output_type": "display_data"
    }
   ],
   "source": [
    "plt.figure(figsize=(8, 8))\n",
    "plt.xlabel('Amount of Listings (At least)')\n",
    "plt.ylabel('Number of Categories that have at least this many listings')\n",
    "plt.bar(thresholdlabels, categorycounts)\n",
    "\n",
    "print(categorycounts)"
   ]
  },
  {
   "cell_type": "markdown",
   "metadata": {},
   "source": [
    "Interestingly enough the shape of this graph looks a lot more linear compared to the graph of \"Brand\", which looked more exponential. This leads us to believe that listings are distributed among categories even more evenly than brands.\n",
    "\n",
    "Now to look at the Name column."
   ]
  },
  {
   "cell_type": "code",
   "execution_count": 19,
   "metadata": {},
   "outputs": [
    {
     "data": {
      "text/plain": [
       "Bundle                                      1572\n",
       "Reserved                                     325\n",
       "Dress                                        312\n",
       "BUNDLE                                       303\n",
       "Converse                                     303\n",
       "                                            ... \n",
       "BRAND NEW Black Pointed Flats                  1\n",
       "Agnes and Dora Small Mint Hi Lo Tunic          1\n",
       "Hollister Jeans - Venice Boot -free ship       1\n",
       "Lot of Men's Large cloth belts                 1\n",
       "Golden Girls yellow men shirt L                1\n",
       "Name: Name, Length: 886108, dtype: int64"
      ]
     },
     "execution_count": 19,
     "metadata": {},
     "output_type": "execute_result"
    }
   ],
   "source": [
    "mercari_data['Name'].value_counts()"
   ]
  },
  {
   "cell_type": "markdown",
   "metadata": {},
   "source": [
    "There are 886,108 unique values of Name, which suggests that this field isn't very useful as a categorical value. Furthermore, from just the first 5 Names of the list, it appears that some of the Name values are redundant with information available in other columns. For example lets look at all the listings named \"Converse\". Converse is a brand, and therefore we wouldn't have needed the Name field to properly identify it as such. Same goes for \"Dress\", this information could have already been determined from the listing's Category field. To investigate our suspicions, lets get some sample rows for listings with Name values of \"Converse\" and \"Dress\":"
   ]
  },
  {
   "cell_type": "code",
   "execution_count": 20,
   "metadata": {},
   "outputs": [
    {
     "data": {
      "text/html": [
       "<div>\n",
       "<style scoped>\n",
       "    .dataframe tbody tr th:only-of-type {\n",
       "        vertical-align: middle;\n",
       "    }\n",
       "\n",
       "    .dataframe tbody tr th {\n",
       "        vertical-align: top;\n",
       "    }\n",
       "\n",
       "    .dataframe thead th {\n",
       "        text-align: right;\n",
       "    }\n",
       "</style>\n",
       "<table border=\"1\" class=\"dataframe\">\n",
       "  <thead>\n",
       "    <tr style=\"text-align: right;\">\n",
       "      <th></th>\n",
       "      <th>Name</th>\n",
       "      <th>Brand</th>\n",
       "      <th>Category</th>\n",
       "    </tr>\n",
       "  </thead>\n",
       "  <tbody>\n",
       "    <tr>\n",
       "      <th>262459</th>\n",
       "      <td>Converse</td>\n",
       "      <td>Converse</td>\n",
       "      <td>NaN</td>\n",
       "    </tr>\n",
       "    <tr>\n",
       "      <th>262460</th>\n",
       "      <td>Converse</td>\n",
       "      <td>Converse Shoes</td>\n",
       "      <td>NaN</td>\n",
       "    </tr>\n",
       "    <tr>\n",
       "      <th>262461</th>\n",
       "      <td>Converse</td>\n",
       "      <td>NaN</td>\n",
       "      <td>Kids/Boys (4+)/Shoes</td>\n",
       "    </tr>\n",
       "    <tr>\n",
       "      <th>262462</th>\n",
       "      <td>Converse</td>\n",
       "      <td>NaN</td>\n",
       "      <td>Kids/Boys (4+)/Shoes</td>\n",
       "    </tr>\n",
       "    <tr>\n",
       "      <th>262463</th>\n",
       "      <td>Converse</td>\n",
       "      <td>NaN</td>\n",
       "      <td>Kids/Boys (4+)/Shoes</td>\n",
       "    </tr>\n",
       "    <tr>\n",
       "      <th>262464</th>\n",
       "      <td>Converse</td>\n",
       "      <td>Nike</td>\n",
       "      <td>Kids/Boys (4+)/Shoes</td>\n",
       "    </tr>\n",
       "    <tr>\n",
       "      <th>262465</th>\n",
       "      <td>Converse</td>\n",
       "      <td>NaN</td>\n",
       "      <td>Kids/Boys (4+)/Shoes</td>\n",
       "    </tr>\n",
       "    <tr>\n",
       "      <th>262466</th>\n",
       "      <td>Converse</td>\n",
       "      <td>NaN</td>\n",
       "      <td>Kids/Boys (4+)/Shoes</td>\n",
       "    </tr>\n",
       "    <tr>\n",
       "      <th>262467</th>\n",
       "      <td>Converse</td>\n",
       "      <td>NaN</td>\n",
       "      <td>Kids/Boys 0-24 Mos/Shoes</td>\n",
       "    </tr>\n",
       "    <tr>\n",
       "      <th>262468</th>\n",
       "      <td>Converse</td>\n",
       "      <td>NaN</td>\n",
       "      <td>Kids/Boys 0-24 Mos/Shoes</td>\n",
       "    </tr>\n",
       "    <tr>\n",
       "      <th>262469</th>\n",
       "      <td>Converse</td>\n",
       "      <td>NaN</td>\n",
       "      <td>Kids/Boys 0-24 Mos/Shoes</td>\n",
       "    </tr>\n",
       "    <tr>\n",
       "      <th>262470</th>\n",
       "      <td>Converse</td>\n",
       "      <td>Nike</td>\n",
       "      <td>Kids/Boys 0-24 Mos/Shoes</td>\n",
       "    </tr>\n",
       "    <tr>\n",
       "      <th>262471</th>\n",
       "      <td>Converse</td>\n",
       "      <td>NaN</td>\n",
       "      <td>Kids/Boys 0-24 Mos/Shoes</td>\n",
       "    </tr>\n",
       "    <tr>\n",
       "      <th>262472</th>\n",
       "      <td>Converse</td>\n",
       "      <td>Converse</td>\n",
       "      <td>Kids/Boys 0-24 Mos/Shoes</td>\n",
       "    </tr>\n",
       "    <tr>\n",
       "      <th>262473</th>\n",
       "      <td>Converse</td>\n",
       "      <td>NaN</td>\n",
       "      <td>Kids/Boys 0-24 Mos/Shoes</td>\n",
       "    </tr>\n",
       "  </tbody>\n",
       "</table>\n",
       "</div>"
      ],
      "text/plain": [
       "            Name           Brand                  Category\n",
       "262459  Converse        Converse                       NaN\n",
       "262460  Converse  Converse Shoes                       NaN\n",
       "262461  Converse             NaN      Kids/Boys (4+)/Shoes\n",
       "262462  Converse             NaN      Kids/Boys (4+)/Shoes\n",
       "262463  Converse             NaN      Kids/Boys (4+)/Shoes\n",
       "262464  Converse            Nike      Kids/Boys (4+)/Shoes\n",
       "262465  Converse             NaN      Kids/Boys (4+)/Shoes\n",
       "262466  Converse             NaN      Kids/Boys (4+)/Shoes\n",
       "262467  Converse             NaN  Kids/Boys 0-24 Mos/Shoes\n",
       "262468  Converse             NaN  Kids/Boys 0-24 Mos/Shoes\n",
       "262469  Converse             NaN  Kids/Boys 0-24 Mos/Shoes\n",
       "262470  Converse            Nike  Kids/Boys 0-24 Mos/Shoes\n",
       "262471  Converse             NaN  Kids/Boys 0-24 Mos/Shoes\n",
       "262472  Converse        Converse  Kids/Boys 0-24 Mos/Shoes\n",
       "262473  Converse             NaN  Kids/Boys 0-24 Mos/Shoes"
      ]
     },
     "execution_count": 20,
     "metadata": {},
     "output_type": "execute_result"
    }
   ],
   "source": [
    "mercari_data[['Name', 'Brand', 'Category']][mercari_data['Name']=='Converse'].head(15)"
   ]
  },
  {
   "cell_type": "code",
   "execution_count": 21,
   "metadata": {},
   "outputs": [
    {
     "data": {
      "text/html": [
       "<div>\n",
       "<style scoped>\n",
       "    .dataframe tbody tr th:only-of-type {\n",
       "        vertical-align: middle;\n",
       "    }\n",
       "\n",
       "    .dataframe tbody tr th {\n",
       "        vertical-align: top;\n",
       "    }\n",
       "\n",
       "    .dataframe thead th {\n",
       "        text-align: right;\n",
       "    }\n",
       "</style>\n",
       "<table border=\"1\" class=\"dataframe\">\n",
       "  <thead>\n",
       "    <tr style=\"text-align: right;\">\n",
       "      <th></th>\n",
       "      <th>Name</th>\n",
       "      <th>Brand</th>\n",
       "      <th>Category</th>\n",
       "    </tr>\n",
       "  </thead>\n",
       "  <tbody>\n",
       "    <tr>\n",
       "      <th>298220</th>\n",
       "      <td>Dress</td>\n",
       "      <td>FOREVER 21</td>\n",
       "      <td>NaN</td>\n",
       "    </tr>\n",
       "    <tr>\n",
       "      <th>298221</th>\n",
       "      <td>Dress</td>\n",
       "      <td>NaN</td>\n",
       "      <td>Kids/Girls (4+)/Dresses</td>\n",
       "    </tr>\n",
       "    <tr>\n",
       "      <th>298222</th>\n",
       "      <td>Dress</td>\n",
       "      <td>NaN</td>\n",
       "      <td>Kids/Girls (4+)/Dresses</td>\n",
       "    </tr>\n",
       "    <tr>\n",
       "      <th>298223</th>\n",
       "      <td>Dress</td>\n",
       "      <td>Old Navy</td>\n",
       "      <td>Kids/Girls (4+)/Dresses</td>\n",
       "    </tr>\n",
       "    <tr>\n",
       "      <th>298224</th>\n",
       "      <td>Dress</td>\n",
       "      <td>NaN</td>\n",
       "      <td>Kids/Girls (4+)/Dresses</td>\n",
       "    </tr>\n",
       "    <tr>\n",
       "      <th>298225</th>\n",
       "      <td>Dress</td>\n",
       "      <td>NaN</td>\n",
       "      <td>Kids/Girls (4+)/Dresses</td>\n",
       "    </tr>\n",
       "    <tr>\n",
       "      <th>298226</th>\n",
       "      <td>Dress</td>\n",
       "      <td>NaN</td>\n",
       "      <td>Kids/Girls (4+)/Dresses</td>\n",
       "    </tr>\n",
       "    <tr>\n",
       "      <th>298227</th>\n",
       "      <td>Dress</td>\n",
       "      <td>NaN</td>\n",
       "      <td>Kids/Girls (4+)/Dresses</td>\n",
       "    </tr>\n",
       "    <tr>\n",
       "      <th>298228</th>\n",
       "      <td>Dress</td>\n",
       "      <td>NaN</td>\n",
       "      <td>Kids/Girls (4+)/Dresses</td>\n",
       "    </tr>\n",
       "    <tr>\n",
       "      <th>298229</th>\n",
       "      <td>Dress</td>\n",
       "      <td>NaN</td>\n",
       "      <td>Kids/Girls (4+)/Dresses</td>\n",
       "    </tr>\n",
       "    <tr>\n",
       "      <th>298230</th>\n",
       "      <td>Dress</td>\n",
       "      <td>NaN</td>\n",
       "      <td>Kids/Girls 0-24 Mos/Dresses</td>\n",
       "    </tr>\n",
       "    <tr>\n",
       "      <th>298231</th>\n",
       "      <td>Dress</td>\n",
       "      <td>NaN</td>\n",
       "      <td>Kids/Girls 0-24 Mos/Dresses</td>\n",
       "    </tr>\n",
       "    <tr>\n",
       "      <th>298232</th>\n",
       "      <td>Dress</td>\n",
       "      <td>Children's Place</td>\n",
       "      <td>Kids/Girls 0-24 Mos/Dresses</td>\n",
       "    </tr>\n",
       "    <tr>\n",
       "      <th>298233</th>\n",
       "      <td>Dress</td>\n",
       "      <td>Gymboree</td>\n",
       "      <td>Kids/Girls 0-24 Mos/Dresses</td>\n",
       "    </tr>\n",
       "    <tr>\n",
       "      <th>298234</th>\n",
       "      <td>Dress</td>\n",
       "      <td>Osh Kosh B'gosh</td>\n",
       "      <td>Kids/Girls 0-24 Mos/Dresses</td>\n",
       "    </tr>\n",
       "  </tbody>\n",
       "</table>\n",
       "</div>"
      ],
      "text/plain": [
       "         Name             Brand                     Category\n",
       "298220  Dress        FOREVER 21                          NaN\n",
       "298221  Dress               NaN      Kids/Girls (4+)/Dresses\n",
       "298222  Dress               NaN      Kids/Girls (4+)/Dresses\n",
       "298223  Dress          Old Navy      Kids/Girls (4+)/Dresses\n",
       "298224  Dress               NaN      Kids/Girls (4+)/Dresses\n",
       "298225  Dress               NaN      Kids/Girls (4+)/Dresses\n",
       "298226  Dress               NaN      Kids/Girls (4+)/Dresses\n",
       "298227  Dress               NaN      Kids/Girls (4+)/Dresses\n",
       "298228  Dress               NaN      Kids/Girls (4+)/Dresses\n",
       "298229  Dress               NaN      Kids/Girls (4+)/Dresses\n",
       "298230  Dress               NaN  Kids/Girls 0-24 Mos/Dresses\n",
       "298231  Dress               NaN  Kids/Girls 0-24 Mos/Dresses\n",
       "298232  Dress  Children's Place  Kids/Girls 0-24 Mos/Dresses\n",
       "298233  Dress          Gymboree  Kids/Girls 0-24 Mos/Dresses\n",
       "298234  Dress   Osh Kosh B'gosh  Kids/Girls 0-24 Mos/Dresses"
      ]
     },
     "execution_count": 21,
     "metadata": {},
     "output_type": "execute_result"
    }
   ],
   "source": [
    "mercari_data[['Name', 'Brand', 'Category']][mercari_data['Name']=='Dress'].head(15)"
   ]
  },
  {
   "cell_type": "markdown",
   "metadata": {},
   "source": [
    "For our listings named \"Dress\", the vast majority of them were properly categorized with the relevant information we needed. However our \"Converse\" listings had a ton of missing Brand values, which raises some concern. If we were to drop the Name column, we would've lost the information that these listings were meant to be under the Converse brand, permanently. We will keep this in mind when we do our data cleaning later. Lets get a more comprehensive picture of how many listings are simply named by their brand, category, or both."
   ]
  },
  {
   "cell_type": "code",
   "execution_count": 22,
   "metadata": {},
   "outputs": [
    {
     "data": {
      "text/plain": [
       "Bundle                  1572\n",
       "Reserved                 325\n",
       "Dress                    312\n",
       "BUNDLE                   303\n",
       "Converse                 303\n",
       "Coach purse              281\n",
       "Lularoe TC leggings      274\n",
       "Nike                     250\n",
       "Romper                   248\n",
       "Vans                     243\n",
       "American Eagle Jeans     211\n",
       "Miss Me Jeans            207\n",
       "Lularoe OS leggings      201\n",
       "Shorts                   188\n",
       "Coach Purse              186\n",
       "ON HOLD                  185\n",
       "Coach wallet             183\n",
       "Lularoe Irma             180\n",
       "Michael Kors Purse       177\n",
       "Bundle!                  171\n",
       "Miss me jeans            166\n",
       "Nike shoes               163\n",
       "Michael Kors Wallet      160\n",
       "Lularoe TC Leggings      159\n",
       "American eagle jeans     155\n",
       "Michael Kors             152\n",
       "Nike shorts              151\n",
       "Jeans                    146\n",
       "Rae Dunn                 145\n",
       "Sandals                  144\n",
       "Name: Name, dtype: int64"
      ]
     },
     "execution_count": 22,
     "metadata": {},
     "output_type": "execute_result"
    }
   ],
   "source": [
    "mercari_data['Name'].value_counts().head(30)"
   ]
  },
  {
   "cell_type": "markdown",
   "metadata": {},
   "source": [
    "Most of the items in this list are not actual names of the listing, but just a rehashing of the item's brand, category or a combination of the two. We can use items such as these to potentially restore some missing values, namely in Brand. \n",
    "\n",
    "We do have some exceptions such as \"Bundle\" and its variations, \"Reserved\", and \"ON HOLD\". For these listings, it is true that the Name field provides information that can't be determined from Brand and Category. However these items combined make up about 3000 listings, which is less than 0.3% of the entire dataset. It would not be a substantial loss to the accuracy of our data analysis if we were to drop this information.\n",
    "\n",
    "Now lets move on to Item Description."
   ]
  },
  {
   "cell_type": "code",
   "execution_count": 23,
   "metadata": {},
   "outputs": [
    {
     "data": {
      "text/plain": [
       "No description yet                                                                        58341\n",
       "New                                                                                        2898\n",
       "Brand new                                                                                  2195\n",
       "Good condition                                                                              877\n",
       "Great condition                                                                             830\n",
       "                                                                                          ...  \n",
       "Super cute, flattering. No insert for pads, but is not see through due to the pattern.        1\n",
       "Never used Never Fall Pouch from LV Authentic .                                               1\n",
       "Wallet in use condition please see pics for flaws                                             1\n",
       "Socks for baby newborn and up                                                                 1\n",
       "Black small wallet/clutch barley used bout for [rm]                                           1\n",
       "Name: Item Description, Length: 913717, dtype: int64"
      ]
     },
     "execution_count": 23,
     "metadata": {},
     "output_type": "execute_result"
    }
   ],
   "source": [
    "mercari_data['Item Description'].value_counts()"
   ]
  },
  {
   "cell_type": "markdown",
   "metadata": {},
   "source": [
    "Very similarly to Name, there are 913,717 unique values in Item Description, which doesn't make it very useful as a categorical variable. And as we can see, the most common item descriptions appear to contain redundant information. Lets look at more of the most common item descriptions just to make sure:"
   ]
  },
  {
   "cell_type": "code",
   "execution_count": 24,
   "metadata": {},
   "outputs": [
    {
     "data": {
      "text/plain": [
       "No description yet      58341\n",
       "New                      2898\n",
       "Brand new                2195\n",
       "Good condition            877\n",
       "Great condition           830\n",
       "Like new                  697\n",
       "Never worn                601\n",
       "NWT                       568\n",
       "New with tags             454\n",
       "Excellent condition       432\n",
       "Never used                424\n",
       "Worn once                 420\n",
       "Brand new with tags       335\n",
       "Size small                326\n",
       "Brand New                 316\n",
       "Brand new!                314\n",
       "New in box                312\n",
       "BNWT                      308\n",
       "Brand new.                283\n",
       "Bundle                    280\n",
       "Reserved                  262\n",
       "NWOT                      254\n",
       "Free shipping             250\n",
       "Size medium               243\n",
       "Brand new never used      224\n",
       "In good condition         221\n",
       "Nwt                       218\n",
       "In great condition        189\n",
       "Brand new in box          184\n",
       "Size large                180\n",
       "Name: Item Description, dtype: int64"
      ]
     },
     "execution_count": 24,
     "metadata": {},
     "output_type": "execute_result"
    }
   ],
   "source": [
    "mercari_data['Item Description'].value_counts().head(30)"
   ]
  },
  {
   "cell_type": "markdown",
   "metadata": {},
   "source": [
    "As suspected, most of these item descriptions are just restating the item's condition, which can already be determined from the Condition field. The few exceptions do not justify keeping this column. "
   ]
  },
  {
   "cell_type": "markdown",
   "metadata": {},
   "source": [
    "# Data Cleaning"
   ]
  },
  {
   "cell_type": "markdown",
   "metadata": {},
   "source": [
    "Lets first check to see how many missing values each column has:"
   ]
  },
  {
   "cell_type": "code",
   "execution_count": 6,
   "metadata": {},
   "outputs": [
    {
     "data": {
      "text/html": [
       "<div>\n",
       "<style scoped>\n",
       "    .dataframe tbody tr th:only-of-type {\n",
       "        vertical-align: middle;\n",
       "    }\n",
       "\n",
       "    .dataframe tbody tr th {\n",
       "        vertical-align: top;\n",
       "    }\n",
       "\n",
       "    .dataframe thead th {\n",
       "        text-align: right;\n",
       "    }\n",
       "</style>\n",
       "<table border=\"1\" class=\"dataframe\">\n",
       "  <thead>\n",
       "    <tr style=\"text-align: right;\">\n",
       "      <th></th>\n",
       "      <th>count</th>\n",
       "      <th>%</th>\n",
       "    </tr>\n",
       "  </thead>\n",
       "  <tbody>\n",
       "    <tr>\n",
       "      <th>Brand</th>\n",
       "      <td>447335</td>\n",
       "      <td>42.661231</td>\n",
       "    </tr>\n",
       "    <tr>\n",
       "      <th>Category</th>\n",
       "      <td>4503</td>\n",
       "      <td>0.429440</td>\n",
       "    </tr>\n",
       "    <tr>\n",
       "      <th>Item Description</th>\n",
       "      <td>2</td>\n",
       "      <td>0.000191</td>\n",
       "    </tr>\n",
       "    <tr>\n",
       "      <th>Name</th>\n",
       "      <td>0</td>\n",
       "      <td>0.000000</td>\n",
       "    </tr>\n",
       "    <tr>\n",
       "      <th>Condition</th>\n",
       "      <td>0</td>\n",
       "      <td>0.000000</td>\n",
       "    </tr>\n",
       "    <tr>\n",
       "      <th>Price</th>\n",
       "      <td>0</td>\n",
       "      <td>0.000000</td>\n",
       "    </tr>\n",
       "    <tr>\n",
       "      <th>Shipping</th>\n",
       "      <td>0</td>\n",
       "      <td>0.000000</td>\n",
       "    </tr>\n",
       "  </tbody>\n",
       "</table>\n",
       "</div>"
      ],
      "text/plain": [
       "                   count          %\n",
       "Brand             447335  42.661231\n",
       "Category            4503   0.429440\n",
       "Item Description       2   0.000191\n",
       "Name                   0   0.000000\n",
       "Condition              0   0.000000\n",
       "Price                  0   0.000000\n",
       "Shipping               0   0.000000"
      ]
     },
     "execution_count": 6,
     "metadata": {},
     "output_type": "execute_result"
    }
   ],
   "source": [
    "#Now to find out exactly how many values are missing in each column\n",
    "missing = pd.concat([mercari_data.isnull().sum(), 100 * mercari_data.isnull().mean()], axis=1)\n",
    "missing.columns=['count', '%']\n",
    "missing.sort_values(by='count', ascending=False)"
   ]
  },
  {
   "cell_type": "markdown",
   "metadata": {},
   "source": [
    "Seems like there are an abundance of missing values in the Brand column, just a few in Category,\n",
    "and just a handful in Item Description. \n",
    "\n",
    "It makes sense for there to be a large amount of listings without a relevant Brand value. Some items simply don't have brands, and others aren't the type of item where its brand is relevant. For example, people typically don't care about the brand when it comes to items like towels, slippers, or appliances. We're just going to drop any rows without Brand or Category values because these categorical features will be our main focus of data analysis. "
   ]
  },
  {
   "cell_type": "code",
   "execution_count": 7,
   "metadata": {},
   "outputs": [
    {
     "data": {
      "text/plain": [
       "(599214, 7)"
      ]
     },
     "execution_count": 7,
     "metadata": {},
     "output_type": "execute_result"
    }
   ],
   "source": [
    "# Remove rows with missing Brand, Category, and item description values\n",
    "mercari_data.dropna(inplace=True)\n",
    "\n",
    "# Lets see how many rows we're left with now, compared to our initial 1 million\n",
    "mercari_data.shape"
   ]
  },
  {
   "cell_type": "code",
   "execution_count": 8,
   "metadata": {},
   "outputs": [
    {
     "data": {
      "text/plain": [
       "(599214, 5)"
      ]
     },
     "execution_count": 8,
     "metadata": {},
     "output_type": "execute_result"
    }
   ],
   "source": [
    "# Dropping Name and Item Description\n",
    "mercari_data.drop(['Name', 'Item Description'], axis=1, inplace=True)\n",
    "\n",
    "# Check to see if columns were fully dropped, should only have 5 columns now\n",
    "mercari_data.shape"
   ]
  },
  {
   "cell_type": "markdown",
   "metadata": {},
   "source": [
    "Here we have to consider whether or not it's worth keeping rows with brands and categories that do not occur frequently in the data. Not only would keeping all the data make our data set massive after one hot encoding, but it's also not necessarily relevant data to have in the first place. If Brand X is only represented by one single row in the entire dataset, then we can't make any fair predictions based off of one data point of Brand X anyways. To account for the constraints of computational power, I've decided to drop any rows where the brand and/or category appear in less than 50 instances in the data. Based on the graphs constructed earlier, about 3000 brands and 300 categories will no longer occur in the data."
   ]
  },
  {
   "cell_type": "code",
   "execution_count": 9,
   "metadata": {},
   "outputs": [],
   "source": [
    "brandsCut = mercari_data[mercari_data['Brand'].isin(mercari_data['Brand'].value_counts()[mercari_data['Brand'].value_counts() <= 50].index)].Brand.unique()\n",
    "mercari_data = mercari_data[~mercari_data['Brand'].isin(brandsCut)]"
   ]
  },
  {
   "cell_type": "code",
   "execution_count": 10,
   "metadata": {},
   "outputs": [],
   "source": [
    "categoriesCut = mercari_data[mercari_data['Category'].isin(mercari_data['Category'].value_counts()[mercari_data['Category'].value_counts() <= 50].index)].Category.unique()\n",
    "mercari_data = mercari_data[~mercari_data['Category'].isin(categoriesCut)]"
   ]
  },
  {
   "cell_type": "code",
   "execution_count": 11,
   "metadata": {},
   "outputs": [
    {
     "data": {
      "text/plain": [
       "(567573, 5)"
      ]
     },
     "execution_count": 11,
     "metadata": {},
     "output_type": "execute_result"
    }
   ],
   "source": [
    "mercari_data.shape"
   ]
  },
  {
   "cell_type": "markdown",
   "metadata": {},
   "source": [
    "After doing some browsing around on the Mercari website, it doesn't seem possible to post an item for sale for $0, or giving it away for free. Let's see if we have any price values equal to 0."
   ]
  },
  {
   "cell_type": "code",
   "execution_count": 5,
   "metadata": {},
   "outputs": [
    {
     "data": {
      "text/html": [
       "<div>\n",
       "<style scoped>\n",
       "    .dataframe tbody tr th:only-of-type {\n",
       "        vertical-align: middle;\n",
       "    }\n",
       "\n",
       "    .dataframe tbody tr th {\n",
       "        vertical-align: top;\n",
       "    }\n",
       "\n",
       "    .dataframe thead th {\n",
       "        text-align: right;\n",
       "    }\n",
       "</style>\n",
       "<table border=\"1\" class=\"dataframe\">\n",
       "  <thead>\n",
       "    <tr style=\"text-align: right;\">\n",
       "      <th></th>\n",
       "      <th>Name</th>\n",
       "      <th>Condition</th>\n",
       "      <th>Category</th>\n",
       "      <th>Brand</th>\n",
       "      <th>Price</th>\n",
       "      <th>Shipping</th>\n",
       "      <th>Item Description</th>\n",
       "    </tr>\n",
       "  </thead>\n",
       "  <tbody>\n",
       "    <tr>\n",
       "      <th>8238</th>\n",
       "      <td>*NARS ITA Kabuki Brush*</td>\n",
       "      <td>1</td>\n",
       "      <td>Beauty/Tools &amp; Accessories/Makeup Brushes &amp; Tools</td>\n",
       "      <td>Nars</td>\n",
       "      <td>0</td>\n",
       "      <td>1</td>\n",
       "      <td>*NARS Ita Kabuki Brush* Bought at Sephora for ...</td>\n",
       "    </tr>\n",
       "    <tr>\n",
       "      <th>12588</th>\n",
       "      <td>1 Pairs Mink Eyelashes &amp; Free Glue</td>\n",
       "      <td>1</td>\n",
       "      <td>Beauty/Makeup/Eyes</td>\n",
       "      <td>NaN</td>\n",
       "      <td>0</td>\n",
       "      <td>1</td>\n",
       "      <td>No description yet</td>\n",
       "    </tr>\n",
       "    <tr>\n",
       "      <th>14247</th>\n",
       "      <td>10 Things I Hate About You/Moonlight</td>\n",
       "      <td>3</td>\n",
       "      <td>Electronics/Media/Blu-Ray</td>\n",
       "      <td>NaN</td>\n",
       "      <td>0</td>\n",
       "      <td>1</td>\n",
       "      <td>10th Anniversary of the film overall in great ...</td>\n",
       "    </tr>\n",
       "    <tr>\n",
       "      <th>15779</th>\n",
       "      <td>10K Cameo Earrings- For IOLANDA ONLY</td>\n",
       "      <td>2</td>\n",
       "      <td>Vintage &amp; Collectibles/Jewelry/Earrings</td>\n",
       "      <td>Stamped</td>\n",
       "      <td>0</td>\n",
       "      <td>1</td>\n",
       "      <td>Stamped BDA10K</td>\n",
       "    </tr>\n",
       "    <tr>\n",
       "      <th>19100</th>\n",
       "      <td>14k Gold Over Silver CZ Heart Earrings</td>\n",
       "      <td>1</td>\n",
       "      <td>Women/Jewelry/Earrings</td>\n",
       "      <td>Stamped</td>\n",
       "      <td>0</td>\n",
       "      <td>1</td>\n",
       "      <td>you are looking at a pair of wonderful 925 sil...</td>\n",
       "    </tr>\n",
       "    <tr>\n",
       "      <th>...</th>\n",
       "      <td>...</td>\n",
       "      <td>...</td>\n",
       "      <td>...</td>\n",
       "      <td>...</td>\n",
       "      <td>...</td>\n",
       "      <td>...</td>\n",
       "      <td>...</td>\n",
       "    </tr>\n",
       "    <tr>\n",
       "      <th>1042344</th>\n",
       "      <td>Young Adult novels</td>\n",
       "      <td>3</td>\n",
       "      <td>Other/Books/Literature &amp; Fiction</td>\n",
       "      <td>NaN</td>\n",
       "      <td>0</td>\n",
       "      <td>0</td>\n",
       "      <td>Extremely Loud and Incredibly Close by Jonatha...</td>\n",
       "    </tr>\n",
       "    <tr>\n",
       "      <th>1043448</th>\n",
       "      <td>YOUNIQUE LIQUID FOUNDATION BRUSH</td>\n",
       "      <td>1</td>\n",
       "      <td>Beauty/Tools &amp; Accessories/Makeup Brushes &amp; Tools</td>\n",
       "      <td>Younique</td>\n",
       "      <td>0</td>\n",
       "      <td>1</td>\n",
       "      <td>***YOUNIQUE LIQUID FOUNDATION BRUSH*** â–ª100%...</td>\n",
       "    </tr>\n",
       "    <tr>\n",
       "      <th>1045847</th>\n",
       "      <td>Z Kids knee pads</td>\n",
       "      <td>3</td>\n",
       "      <td>Kids/Safety/Outdoor Safety</td>\n",
       "      <td>NaN</td>\n",
       "      <td>0</td>\n",
       "      <td>0</td>\n",
       "      <td>Knee pads for toddler child. Velcro straps Exc...</td>\n",
       "    </tr>\n",
       "    <tr>\n",
       "      <th>1045872</th>\n",
       "      <td>Z Palette With 10 EyeShadows</td>\n",
       "      <td>3</td>\n",
       "      <td>Beauty/Makeup/Eyes</td>\n",
       "      <td>NaN</td>\n",
       "      <td>0</td>\n",
       "      <td>0</td>\n",
       "      <td>5 makeup geek shadows, 2 depotted Urban decay ...</td>\n",
       "    </tr>\n",
       "    <tr>\n",
       "      <th>1047737</th>\n",
       "      <td>Zilla Toho</td>\n",
       "      <td>3</td>\n",
       "      <td>Vintage &amp; Collectibles/Toy/Action Figure</td>\n",
       "      <td>Bandai</td>\n",
       "      <td>0</td>\n",
       "      <td>0</td>\n",
       "      <td>Zilla Toho Godzilla,eyes light up, make sound ...</td>\n",
       "    </tr>\n",
       "  </tbody>\n",
       "</table>\n",
       "<p>594 rows × 7 columns</p>\n",
       "</div>"
      ],
      "text/plain": [
       "                                           Name  Condition  \\\n",
       "8238                    *NARS ITA Kabuki Brush*          1   \n",
       "12588        1 Pairs Mink Eyelashes & Free Glue          1   \n",
       "14247      10 Things I Hate About You/Moonlight          3   \n",
       "15779      10K Cameo Earrings- For IOLANDA ONLY          2   \n",
       "19100    14k Gold Over Silver CZ Heart Earrings          1   \n",
       "...                                         ...        ...   \n",
       "1042344                      Young Adult novels          3   \n",
       "1043448        YOUNIQUE LIQUID FOUNDATION BRUSH          1   \n",
       "1045847                        Z Kids knee pads          3   \n",
       "1045872            Z Palette With 10 EyeShadows          3   \n",
       "1047737                              Zilla Toho          3   \n",
       "\n",
       "                                                  Category     Brand  Price  \\\n",
       "8238     Beauty/Tools & Accessories/Makeup Brushes & Tools      Nars      0   \n",
       "12588                                   Beauty/Makeup/Eyes       NaN      0   \n",
       "14247                            Electronics/Media/Blu-Ray       NaN      0   \n",
       "15779              Vintage & Collectibles/Jewelry/Earrings   Stamped      0   \n",
       "19100                               Women/Jewelry/Earrings   Stamped      0   \n",
       "...                                                    ...       ...    ...   \n",
       "1042344                   Other/Books/Literature & Fiction       NaN      0   \n",
       "1043448  Beauty/Tools & Accessories/Makeup Brushes & Tools  Younique      0   \n",
       "1045847                         Kids/Safety/Outdoor Safety       NaN      0   \n",
       "1045872                                 Beauty/Makeup/Eyes       NaN      0   \n",
       "1047737           Vintage & Collectibles/Toy/Action Figure    Bandai      0   \n",
       "\n",
       "         Shipping                                   Item Description  \n",
       "8238            1  *NARS Ita Kabuki Brush* Bought at Sephora for ...  \n",
       "12588           1                                 No description yet  \n",
       "14247           1  10th Anniversary of the film overall in great ...  \n",
       "15779           1                                     Stamped BDA10K  \n",
       "19100           1  you are looking at a pair of wonderful 925 sil...  \n",
       "...           ...                                                ...  \n",
       "1042344         0  Extremely Loud and Incredibly Close by Jonatha...  \n",
       "1043448         1  ***YOUNIQUE LIQUID FOUNDATION BRUSH*** â–ª100%...  \n",
       "1045847         0  Knee pads for toddler child. Velcro straps Exc...  \n",
       "1045872         0  5 makeup geek shadows, 2 depotted Urban decay ...  \n",
       "1047737         0  Zilla Toho Godzilla,eyes light up, make sound ...  \n",
       "\n",
       "[594 rows x 7 columns]"
      ]
     },
     "execution_count": 5,
     "metadata": {},
     "output_type": "execute_result"
    }
   ],
   "source": [
    "mercari_data[mercari_data['Price']==0]"
   ]
  },
  {
   "cell_type": "markdown",
   "metadata": {},
   "source": [
    "We do in fact, perhaps this data was entered incorrectly, but we should now just drop any row that has a price of 0."
   ]
  },
  {
   "cell_type": "code",
   "execution_count": 15,
   "metadata": {},
   "outputs": [],
   "source": [
    "mercari_data.drop(mercari_data[mercari_data['Price'] == 0].index, inplace = True)"
   ]
  },
  {
   "cell_type": "code",
   "execution_count": 16,
   "metadata": {},
   "outputs": [
    {
     "data": {
      "text/plain": [
       "(567252, 5)"
      ]
     },
     "execution_count": 16,
     "metadata": {},
     "output_type": "execute_result"
    }
   ],
   "source": [
    "mercari_data.shape"
   ]
  },
  {
   "cell_type": "markdown",
   "metadata": {},
   "source": [
    "# Further Adjustments"
   ]
  },
  {
   "cell_type": "markdown",
   "metadata": {},
   "source": [
    "The rating system on which Condition is based on may present an inconvenience. \"1\" represents top condition whereas \"5\" represents poor condition. However, numerically speaking this scale would imply the opposite. I think it would make the data analysis more straightforward if we were to swap the scale, and have \"5\" represent best condition, and the opposite for \"1\"."
   ]
  },
  {
   "cell_type": "code",
   "execution_count": 17,
   "metadata": {},
   "outputs": [
    {
     "data": {
      "text/plain": [
       "1    204733\n",
       "3    189271\n",
       "2    157306\n",
       "4     14748\n",
       "5      1194\n",
       "Name: Condition, dtype: int64"
      ]
     },
     "execution_count": 17,
     "metadata": {},
     "output_type": "execute_result"
    }
   ],
   "source": [
    "# Before\n",
    "mercari_data['Condition'].value_counts()"
   ]
  },
  {
   "cell_type": "code",
   "execution_count": 18,
   "metadata": {},
   "outputs": [
    {
     "name": "stdout",
     "output_type": "stream",
     "text": [
      "5    204733\n",
      "3    189271\n",
      "4    157306\n",
      "2     14748\n",
      "1      1194\n",
      "Name: Condition, dtype: int64\n"
     ]
    }
   ],
   "source": [
    "# Swapping the values in 'Condition'\n",
    "\n",
    "# First we swap 1's with 5's\n",
    "mercari_data['Condition'] = mercari_data['Condition'].replace(1, 0).replace(5, 1).replace(0, 5)\n",
    "\n",
    "# Now 2's with 4's\n",
    "mercari_data['Condition'] = mercari_data['Condition'].replace(2, 0).replace(4, 2).replace(0, 4)\n",
    "\n",
    "# Verify that swapping was done successfully\n",
    "print(mercari_data['Condition'].value_counts())"
   ]
  },
  {
   "cell_type": "markdown",
   "metadata": {},
   "source": [
    "Now, ought we do the same for \"Shipping\", or is it acceptable the way it is? Just as a recap, the value of '0' means that shipping fees will not be paid for by the seller and the buyer will need to pay it. '1' means that the seller will cover shipping fees. I don't think it makes more sense either way, as 'Shipping' isn't really a quantifiable metric, the '0' and '1' are purely categorical. It doesn't mean anything to say that numerically, a listing has a greater \"Shipping\" value than another."
   ]
  },
  {
   "cell_type": "markdown",
   "metadata": {},
   "source": [
    "We're all done here, now all we need to do is write out our cleaned and adjusted data set:"
   ]
  },
  {
   "cell_type": "code",
   "execution_count": 19,
   "metadata": {},
   "outputs": [],
   "source": [
    "mercari_data.to_csv('MercariDataCleaned.csv')"
   ]
  },
  {
   "cell_type": "code",
   "execution_count": null,
   "metadata": {},
   "outputs": [],
   "source": []
  }
 ],
 "metadata": {
  "kernelspec": {
   "display_name": "Python 3",
   "language": "python",
   "name": "python3"
  },
  "language_info": {
   "codemirror_mode": {
    "name": "ipython",
    "version": 3
   },
   "file_extension": ".py",
   "mimetype": "text/x-python",
   "name": "python",
   "nbconvert_exporter": "python",
   "pygments_lexer": "ipython3",
   "version": "3.7.6"
  }
 },
 "nbformat": 4,
 "nbformat_minor": 4
}
