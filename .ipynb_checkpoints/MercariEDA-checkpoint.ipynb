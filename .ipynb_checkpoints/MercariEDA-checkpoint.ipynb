{
 "cells": [
  {
   "cell_type": "markdown",
   "metadata": {},
   "source": [
    "# Mercari Data Capstone Project - Exploratory Data Analysis"
   ]
  },
  {
   "cell_type": "markdown",
   "metadata": {},
   "source": [
    "After we've finished the data wrangling portion of the project where we investigated each column separately, it is now time to start investigating relationships and correlations between each of our columns. Our target here is 'Price', so we'll be exploring how every other column and combination of other columns may affect the Price."
   ]
  },
  {
   "cell_type": "markdown",
   "metadata": {},
   "source": [
    "To start off, we'll quickly import packages and our dataset, and then check to see if it was imported correctly."
   ]
  },
  {
   "cell_type": "code",
   "execution_count": 102,
   "metadata": {},
   "outputs": [],
   "source": [
    "#imports\n",
    "\n",
    "import statistics\n",
    "import matplotlib.pyplot as plt\n",
    "import seaborn as sns\n",
    "import pandas as pd\n",
    "import numpy as np\n",
    "import os\n",
    "from scipy.stats import chi2_contingency"
   ]
  },
  {
   "cell_type": "code",
   "execution_count": 103,
   "metadata": {},
   "outputs": [],
   "source": [
    "path = \"/Users/jasonzhou/Documents/GuidedCapstone2\"\n",
    "os.chdir(path)\n",
    "\n",
    "mercari_data = pd.read_csv(\"MercariDataCleaned.csv\")\n",
    "mercari_data = mercari_data.drop(columns=['Unnamed: 0'])\n",
    "\n",
    "pd.set_option('display.float_format', lambda x: '%.5f' % x)"
   ]
  },
  {
   "cell_type": "code",
   "execution_count": 113,
   "metadata": {},
   "outputs": [
    {
     "data": {
      "text/html": [
       "<div>\n",
       "<style scoped>\n",
       "    .dataframe tbody tr th:only-of-type {\n",
       "        vertical-align: middle;\n",
       "    }\n",
       "\n",
       "    .dataframe tbody tr th {\n",
       "        vertical-align: top;\n",
       "    }\n",
       "\n",
       "    .dataframe thead th {\n",
       "        text-align: right;\n",
       "    }\n",
       "</style>\n",
       "<table border=\"1\" class=\"dataframe\">\n",
       "  <thead>\n",
       "    <tr style=\"text-align: right;\">\n",
       "      <th></th>\n",
       "      <th>Condition</th>\n",
       "      <th>Category</th>\n",
       "      <th>Brand</th>\n",
       "      <th>Price</th>\n",
       "      <th>Shipping</th>\n",
       "    </tr>\n",
       "  </thead>\n",
       "  <tbody>\n",
       "    <tr>\n",
       "      <th>0</th>\n",
       "      <td>5</td>\n",
       "      <td>Women/Tops &amp; Blouses/Blouse</td>\n",
       "      <td>Unbranded</td>\n",
       "      <td>21</td>\n",
       "      <td>0</td>\n",
       "    </tr>\n",
       "    <tr>\n",
       "      <th>1</th>\n",
       "      <td>5</td>\n",
       "      <td>Electronics/TV, Audio &amp; Surveillance/Headphones</td>\n",
       "      <td>Unbranded</td>\n",
       "      <td>10</td>\n",
       "      <td>1</td>\n",
       "    </tr>\n",
       "    <tr>\n",
       "      <th>2</th>\n",
       "      <td>5</td>\n",
       "      <td>Beauty/Makeup/Lips</td>\n",
       "      <td>Sephora</td>\n",
       "      <td>14</td>\n",
       "      <td>1</td>\n",
       "    </tr>\n",
       "    <tr>\n",
       "      <th>3</th>\n",
       "      <td>5</td>\n",
       "      <td>Beauty/Makeup/Lips</td>\n",
       "      <td>Sephora</td>\n",
       "      <td>14</td>\n",
       "      <td>0</td>\n",
       "    </tr>\n",
       "    <tr>\n",
       "      <th>4</th>\n",
       "      <td>4</td>\n",
       "      <td>Beauty/Makeup/Makeup Sets</td>\n",
       "      <td>Unbranded</td>\n",
       "      <td>5</td>\n",
       "      <td>1</td>\n",
       "    </tr>\n",
       "  </tbody>\n",
       "</table>\n",
       "</div>"
      ],
      "text/plain": [
       "   Condition                                         Category      Brand  \\\n",
       "0          5                      Women/Tops & Blouses/Blouse  Unbranded   \n",
       "1          5  Electronics/TV, Audio & Surveillance/Headphones  Unbranded   \n",
       "2          5                               Beauty/Makeup/Lips    Sephora   \n",
       "3          5                               Beauty/Makeup/Lips    Sephora   \n",
       "4          4                        Beauty/Makeup/Makeup Sets  Unbranded   \n",
       "\n",
       "   Price  Shipping  \n",
       "0     21         0  \n",
       "1     10         1  \n",
       "2     14         1  \n",
       "3     14         0  \n",
       "4      5         1  "
      ]
     },
     "execution_count": 113,
     "metadata": {},
     "output_type": "execute_result"
    }
   ],
   "source": [
    "# Check to see if data was imported correctly\n",
    "mercari_data.head()"
   ]
  },
  {
   "cell_type": "code",
   "execution_count": 189,
   "metadata": {},
   "outputs": [
    {
     "data": {
      "text/plain": [
       "(1048575, 5)"
      ]
     },
     "execution_count": 189,
     "metadata": {},
     "output_type": "execute_result"
    }
   ],
   "source": [
    "mercari_data.shape"
   ]
  },
  {
   "cell_type": "code",
   "execution_count": 190,
   "metadata": {},
   "outputs": [
    {
     "data": {
      "text/html": [
       "<div>\n",
       "<style scoped>\n",
       "    .dataframe tbody tr th:only-of-type {\n",
       "        vertical-align: middle;\n",
       "    }\n",
       "\n",
       "    .dataframe tbody tr th {\n",
       "        vertical-align: top;\n",
       "    }\n",
       "\n",
       "    .dataframe thead th {\n",
       "        text-align: right;\n",
       "    }\n",
       "</style>\n",
       "<table border=\"1\" class=\"dataframe\">\n",
       "  <thead>\n",
       "    <tr style=\"text-align: right;\">\n",
       "      <th></th>\n",
       "      <th>count</th>\n",
       "      <th>%</th>\n",
       "    </tr>\n",
       "  </thead>\n",
       "  <tbody>\n",
       "    <tr>\n",
       "      <th>Condition</th>\n",
       "      <td>0</td>\n",
       "      <td>0.00000</td>\n",
       "    </tr>\n",
       "    <tr>\n",
       "      <th>Category</th>\n",
       "      <td>0</td>\n",
       "      <td>0.00000</td>\n",
       "    </tr>\n",
       "    <tr>\n",
       "      <th>Brand</th>\n",
       "      <td>0</td>\n",
       "      <td>0.00000</td>\n",
       "    </tr>\n",
       "    <tr>\n",
       "      <th>Price</th>\n",
       "      <td>0</td>\n",
       "      <td>0.00000</td>\n",
       "    </tr>\n",
       "    <tr>\n",
       "      <th>Shipping</th>\n",
       "      <td>0</td>\n",
       "      <td>0.00000</td>\n",
       "    </tr>\n",
       "  </tbody>\n",
       "</table>\n",
       "</div>"
      ],
      "text/plain": [
       "           count       %\n",
       "Condition      0 0.00000\n",
       "Category       0 0.00000\n",
       "Brand          0 0.00000\n",
       "Price          0 0.00000\n",
       "Shipping       0 0.00000"
      ]
     },
     "execution_count": 190,
     "metadata": {},
     "output_type": "execute_result"
    }
   ],
   "source": [
    "# Checking for missing values\n",
    "missing = pd.concat([mercari_data.isnull().sum(), 100 * mercari_data.isnull().mean()], axis=1)\n",
    "missing.columns=['count', '%']\n",
    "missing.sort_values(by='count', ascending=False)"
   ]
  },
  {
   "cell_type": "markdown",
   "metadata": {},
   "source": [
    "# Individual Columns vs. Price"
   ]
  },
  {
   "cell_type": "markdown",
   "metadata": {},
   "source": [
    "Lets start with the noncategorical features of the data, which would only be Condition. \n",
    "\n",
    "The intuitive prediction is that the better condition an item is in, the higher the price you can charge for it. Therefore we are expecting to see any kind of positive correlation."
   ]
  },
  {
   "cell_type": "code",
   "execution_count": 112,
   "metadata": {
    "scrolled": true
   },
   "outputs": [
    {
     "data": {
      "image/png": "[encoded data removed]",
      "text/plain": [
       "<Figure size 432x288 with 1 Axes>"
      ]
     },
     "metadata": {
      "needs_background": "light"
     },
     "output_type": "display_data"
    }
   ],
   "source": [
    "# Lets try to investigate and look for any correlations\n",
    "_ = sns.scatterplot(data=mercari_data, x='Condition', y='Price')"
   ]
  },
  {
   "cell_type": "markdown",
   "metadata": {},
   "source": [
    "It's difficult to visualize the correlation here. As we learned from our data wrangling, the mass majority of data points have a price value of about 130 or less. 130 is miniscule compared to the overall height of the graph, and therefore the majority of data points are hidden due to overlap near the bottom. We will just have to find out the correlation coefficient directly numerically:"
   ]
  },
  {
   "cell_type": "code",
   "execution_count": 111,
   "metadata": {},
   "outputs": [
    {
     "data": {
      "text/html": [
       "<div>\n",
       "<style scoped>\n",
       "    .dataframe tbody tr th:only-of-type {\n",
       "        vertical-align: middle;\n",
       "    }\n",
       "\n",
       "    .dataframe tbody tr th {\n",
       "        vertical-align: top;\n",
       "    }\n",
       "\n",
       "    .dataframe thead th {\n",
       "        text-align: right;\n",
       "    }\n",
       "</style>\n",
       "<table border=\"1\" class=\"dataframe\">\n",
       "  <thead>\n",
       "    <tr style=\"text-align: right;\">\n",
       "      <th></th>\n",
       "      <th>Price</th>\n",
       "      <th>Condition</th>\n",
       "    </tr>\n",
       "  </thead>\n",
       "  <tbody>\n",
       "    <tr>\n",
       "      <th>Price</th>\n",
       "      <td>1.00000</td>\n",
       "      <td>0.00116</td>\n",
       "    </tr>\n",
       "    <tr>\n",
       "      <th>Condition</th>\n",
       "      <td>0.00116</td>\n",
       "      <td>1.00000</td>\n",
       "    </tr>\n",
       "  </tbody>\n",
       "</table>\n",
       "</div>"
      ],
      "text/plain": [
       "            Price  Condition\n",
       "Price     1.00000    0.00116\n",
       "Condition 0.00116    1.00000"
      ]
     },
     "execution_count": 111,
     "metadata": {},
     "output_type": "execute_result"
    }
   ],
   "source": [
    "mercari_data[['Price', 'Condition']].corr()"
   ]
  },
  {
   "cell_type": "markdown",
   "metadata": {},
   "source": [
    "So while it does appear that Price does technically correlate positively with Condition, the magnitude of it is extremely low. It is low enough that the takeaway here should be to assume that Condition alone has no particular effect on Price. \n",
    "\n",
    "Upon further thinking this does seem to make sense. An item's condition should theoretically affect the pricing of it to some degree, but this effect will be tiny compared to what the item itself is. No matter what condition an item is in, there is still a bare minimum you can charge for it even if it is in the poorest condition. For example, a pair of worn down limited edition Jordans would still sell for far more than a brand new pair of generic socks.\n",
    "\n",
    "The conclusion to be had here is that Condition by itself is not much of a predictor of Price."
   ]
  },
  {
   "cell_type": "markdown",
   "metadata": {},
   "source": [
    "Let us now move on to Brand.\n",
    "\n",
    "Brand should absolutely have an effect on the price of an item. Nike products for example should sell for higher prices than cheaper shoe or clothing brands. Even when comparing items of different categories, you would expect an electronics brand to sell their items for higher prices than for a clothing brand.\n",
    "\n",
    "Brand is a non-numeric and categorical column, so we can't determine correlation with Price like we did with Condition. We will instead use one way ANOVA testing with the following hypothesis testing:"
   ]
  },
  {
   "cell_type": "markdown",
   "metadata": {},
   "source": [
    "h0: Brand has no significant effect on Price\n",
    "\n",
    "h1: Brand does have a significant effect on Price"
   ]
  },
  {
   "cell_type": "code",
   "execution_count": 132,
   "metadata": {},
   "outputs": [
    {
     "name": "stdout",
     "output_type": "stream",
     "text": [
      "4384\n",
      "Unbranded            447335\n",
      "Nike                  38161\n",
      "PINK                  38123\n",
      "Victoria's Secret     34159\n",
      "LuLaRoe               21900\n",
      "                      ...  \n",
      "Electronic Arts           1\n",
      "Shany                     1\n",
      "Deltana                   1\n",
      "Donald J. Pliner          1\n",
      "Sullen Clothing           1\n",
      "Name: Brand, Length: 4384, dtype: int64\n"
     ]
    }
   ],
   "source": [
    "# Get number of unique values of 'Brand'\n",
    "\n",
    "print(mercari_data['Brand'].nunique())\n",
    "\n",
    "# Lets then identify the Brands that are most present in the data\n",
    "\n",
    "print(mercari_data['Brand'].value_counts())"
   ]
  },
  {
   "cell_type": "code",
   "execution_count": 133,
   "metadata": {},
   "outputs": [],
   "source": [
    "# One way Anova on 'Brand'\n",
    "from scipy.stats import f_oneway\n",
    "\n",
    "brandPriceDict = {}\n",
    "\n",
    "for brand in mercari_data['Brand'].unique().tolist():\n",
    "    pricesList = []\n",
    "    for price in mercari_data['Price'][mercari_data['Brand'] == brand]:\n",
    "        pricesList.append(price)\n",
    "    brandPriceDict[brand] = np.array(pricesList)"
   ]
  },
  {
   "cell_type": "code",
   "execution_count": 118,
   "metadata": {},
   "outputs": [
    {
     "data": {
      "text/plain": [
       "F_onewayResult(statistic=59.04768612512521, pvalue=0.0)"
      ]
     },
     "execution_count": 118,
     "metadata": {},
     "output_type": "execute_result"
    }
   ],
   "source": [
    "f_oneway(*brandPriceDict.values())"
   ]
  },
  {
   "cell_type": "markdown",
   "metadata": {},
   "source": [
    "Because our pvalue was less than 0.05, we can conclude that Brand does in fact have an effect on the price of a listing. We would be shocked if this wasn't the case, as common sense tells us that branding makes a big difference on how much the same kind of product can cost. Let's get a better visual idea on how Brand affects Price:"
   ]
  },
  {
   "cell_type": "code",
   "execution_count": 127,
   "metadata": {},
   "outputs": [
    {
     "data": {
      "image/png": "[encoded data removed]",
      "text/plain": [
       "<Figure size 432x288 with 1 Axes>"
      ]
     },
     "metadata": {
      "needs_background": "light"
     },
     "output_type": "display_data"
    }
   ],
   "source": [
    "meanPricePerBrand = mercari_data.groupby('Brand').mean()['Price'].sort_values()\n",
    "\n",
    "_ = plt.bar(range(4384), list(meanPricePerBrand))\n",
    "_ = plt.xlabel('Brand #')\n",
    "_ = plt.ylabel('Average Price')\n",
    "_ = plt.title('Average Price per Brand (Lowest to Highest)')"
   ]
  },
  {
   "cell_type": "markdown",
   "metadata": {},
   "source": [
    "The distributions of mean price per brand is fairly uniform, with the vast majority of mean prices being below 100.\n",
    "\n",
    "Now let's do the same for Category.\n",
    "\n",
    "Category should certainly have an effect of the price of a listing. For example, an item under the category of computer should sell for far than an item in the socks category."
   ]
  },
  {
   "cell_type": "markdown",
   "metadata": {},
   "source": [
    "h0: Category has no significant effect on Price\n",
    "\n",
    "h1: Category does have a significant effect on Price"
   ]
  },
  {
   "cell_type": "code",
   "execution_count": 128,
   "metadata": {},
   "outputs": [
    {
     "name": "stdout",
     "output_type": "stream",
     "text": [
      "1259\n",
      "Women/Athletic Apparel/Pants, Tights, Leggings    42262\n",
      "Women/Tops & Blouses/T-Shirts                     32736\n",
      "Beauty/Makeup/Face                                24267\n",
      "Beauty/Makeup/Lips                                21136\n",
      "Electronics/Video Games & Consoles/Games          18737\n",
      "                                                  ...  \n",
      "Handmade/Accessories/Belt                             1\n",
      "Handmade/Needlecraft/Felted                           1\n",
      "Other/Automotive/Paint, Body & Trim                   1\n",
      "Sports & Outdoors/Team Sports/Badminton               1\n",
      "Handmade/Patterns/Painting                            1\n",
      "Name: Category, Length: 1259, dtype: int64\n"
     ]
    }
   ],
   "source": [
    "# Get number of unique values of 'Category'\n",
    "\n",
    "print(mercari_data['Category'].nunique())\n",
    "\n",
    "print(mercari_data['Category'].value_counts())"
   ]
  },
  {
   "cell_type": "code",
   "execution_count": 129,
   "metadata": {},
   "outputs": [],
   "source": [
    "# One way Anova on 'Category'\n",
    "categoryPriceDict = {}\n",
    "\n",
    "for category in mercari_data['Category'].unique().tolist():\n",
    "    pricesList = []\n",
    "    for price in mercari_data['Price'][mercari_data['Category'] == category]:\n",
    "        pricesList.append(price)\n",
    "    categoryPriceDict[category] = np.array(pricesList)"
   ]
  },
  {
   "cell_type": "code",
   "execution_count": 130,
   "metadata": {},
   "outputs": [
    {
     "data": {
      "text/plain": [
       "F_onewayResult(statistic=168.46682967623312, pvalue=0.0)"
      ]
     },
     "execution_count": 130,
     "metadata": {},
     "output_type": "execute_result"
    }
   ],
   "source": [
    "f_oneway(*categoryPriceDict.values())"
   ]
  },
  {
   "cell_type": "markdown",
   "metadata": {},
   "source": [
    "Again we've ended up with a p-value of less than 0.05 so we can reject the null hypothesis and can conclude that category does have an effect on Price. This matches our intuition because for example, anything under the computer category is going to sell for way more than say a pair of socks. Again, let's look at a distribution of mean prices per category:"
   ]
  },
  {
   "cell_type": "code",
   "execution_count": 136,
   "metadata": {},
   "outputs": [
    {
     "data": {
      "image/png": "[encoded data removed]",
      "text/plain": [
       "<Figure size 432x288 with 1 Axes>"
      ]
     },
     "metadata": {
      "needs_background": "light"
     },
     "output_type": "display_data"
    }
   ],
   "source": [
    "meanPricePerCategory = mercari_data.groupby('Category').mean()['Price'].sort_values()\n",
    "\n",
    "_ = plt.bar(range(1259), list(meanPricePerCategory))\n",
    "_ = plt.xlabel('Category #')\n",
    "_ = plt.ylabel('Average Price')\n",
    "_ = plt.title('Average Price per Category (Lowest to Highest)')"
   ]
  },
  {
   "cell_type": "markdown",
   "metadata": {},
   "source": [
    "This graph is less polarized than that of Brands, most likely because there are less categories and therefore the individual group data sets have somewhat less variance. Compared to mean price per brand, the increase is more gradual.\n",
    "\n",
    "Now let's look at Shipping.\n",
    "\n",
    "This one isn't so intuitive. I'm unsure of whether or not Shipping should even have an effect on Price. But if it does, then my initial guess would be that listings where the seller doesn't pay for shipping should be on average cheaper. My reasoning for this is that sellers wouldn't want to scare off buyers from paying a regular price and then with shipping costs on top of that."
   ]
  },
  {
   "cell_type": "markdown",
   "metadata": {},
   "source": [
    "Because there are only two groups in Shipping, we can just do a simple t test."
   ]
  },
  {
   "cell_type": "markdown",
   "metadata": {},
   "source": [
    "h0: Shipping has no significant effect on Price\n",
    "\n",
    "h1: Shipping does have a significant effect on Price"
   ]
  },
  {
   "cell_type": "code",
   "execution_count": 146,
   "metadata": {},
   "outputs": [
    {
     "name": "stdout",
     "output_type": "stream",
     "text": [
      "1549.984766870347\n",
      "1381.5714593742339\n"
     ]
    }
   ],
   "source": [
    "from scipy import stats\n",
    "import statistics\n",
    "\n",
    "ship0 = mercari_data['Price'][mercari_data['Shipping'] == 0]\n",
    "ship1 = mercari_data['Price'][mercari_data['Shipping'] == 1]\n",
    "\n",
    "var0 = statistics.variance(ship0)\n",
    "var1 = statistics.variance(ship1)\n",
    "\n",
    "print(var0)\n",
    "print(var1)"
   ]
  },
  {
   "cell_type": "code",
   "execution_count": 148,
   "metadata": {},
   "outputs": [
    {
     "data": {
      "text/plain": [
       "Ttest_indResult(statistic=100.52650843091807, pvalue=0.0)"
      ]
     },
     "execution_count": 148,
     "metadata": {},
     "output_type": "execute_result"
    }
   ],
   "source": [
    "# Because the variances of the two sets of data aren't quite the same, we specify that in our test\n",
    "stats.ttest_ind(ship0, ship1, equal_var=False)"
   ]
  },
  {
   "cell_type": "markdown",
   "metadata": {},
   "source": [
    "Because the p-value is less than 0.05, we must reject the null hypothesis and conclude that the status of Shipping does in fact have an effect on the Price of the listing. An explanation for this is not so straightforward. Lets first get a visual representation of the mean price per shipping:"
   ]
  },
  {
   "cell_type": "code",
   "execution_count": 150,
   "metadata": {},
   "outputs": [
    {
     "data": {
      "image/png": "[encoded data removed]",
      "text/plain": [
       "<Figure size 432x288 with 1 Axes>"
      ]
     },
     "metadata": {
      "needs_background": "light"
     },
     "output_type": "display_data"
    }
   ],
   "source": [
    "_ = plt.bar(['Buyer Pays', 'Seller Pays'], [ship0.mean(), ship1.mean()])\n",
    "_ = plt.ylabel('Average Price')\n",
    "_ = plt.title('Average Price based on Who Pays Shipping')"
   ]
  },
  {
   "cell_type": "markdown",
   "metadata": {},
   "source": [
    "This goes against my initial prediction that listings where the seller doesn't pay for shipping will be cheaper on average. Upon seeing that it's actually the opposite that's true, I have a possible explanation. Listings that are higher in demand can be charged more for AND sellers have the luxury of having buyers pay for shipping too. "
   ]
  },
  {
   "cell_type": "markdown",
   "metadata": {},
   "source": [
    "# Combination of Columns vs. Price"
   ]
  },
  {
   "cell_type": "markdown",
   "metadata": {},
   "source": [
    "During our investigation of individual columns, we discovered that Condition on its own has no effect on the outcome of Price. However, I am still not convinced that it is an irrelevant column of information. Everything else equal, a listing with a condition value of 5 should be able to sell for more than if it had a condition value of 1. I specifically want to test the effects of Condition + Brand, and Condition + Category on the price. Let's begin with the former.\n",
    "\n",
    "To see if Condition is relevant here, we will use the Pearson Chi Square Test. To set up the contigency table, we can only have a single value for every Brand - Condition pair. To deal with this, we will simply take averages. For missing Brand - Condition pairs, we will just fill in the overall mean of the price column. Our hypothesis is the following:\n",
    "\n",
    "h0: There is no relation between the variables of Price and Brand\n",
    "\n",
    "h1: There is significant relation between the variables of Price and Brand"
   ]
  },
  {
   "cell_type": "code",
   "execution_count": 241,
   "metadata": {},
   "outputs": [],
   "source": [
    "from scipy.stats import chi2_contingency\n",
    "\n",
    "# Lets take get 5 rows of average price per brand, 1 for each Condition value\n",
    "\n",
    "conditions = [1, 2, 3, 4, 5]\n",
    "conttable = []\n",
    "\n",
    "# For the brands that don't have a listing with a certain condition, we just fill in the first value. We'll account\n",
    "# for this in the analysis later\n",
    "\n",
    "# In case of nan, just fill in the total average price of the dataset\n",
    "totalmean = mercari_data['Price'].mean()\n",
    "\n",
    "for condition in conditions:\n",
    "    brandlist = []\n",
    "    for brand in list(mercari_data['Brand'].unique()):\n",
    "        if mercari_data['Price'][(mercari_data['Condition']==1) & (mercari_data['Brand']==brand)].any():\n",
    "            brandlist.append(mercari_data['Price'][(mercari_data['Condition']==condition) & (mercari_data['Brand']==brand)].mean())\n",
    "        else:\n",
    "            value = float(mercari_data['Price'][mercari_data['Brand']==brand].head(1))\n",
    "            brandlist.append(totalmean if np.isnan(value) else value)\n",
    "    conttable.append(brandlist)\n",
    "        \n",
    "        "
   ]
  },
  {
   "cell_type": "code",
   "execution_count": 261,
   "metadata": {},
   "outputs": [],
   "source": [
    "# create a cleaned version of conttable without nan values\n",
    "cleanedconttable = []\n",
    "\n",
    "for row in conttable:\n",
    "    temp = []\n",
    "    for item in row:\n",
    "        if (np.isnan(item)) or (item == 0.0):\n",
    "            temp.append(totalmean)\n",
    "        else:\n",
    "            temp.append(item)\n",
    "    cleanedconttable.append(temp)"
   ]
  },
  {
   "cell_type": "code",
   "execution_count": 263,
   "metadata": {},
   "outputs": [
    {
     "name": "stdout",
     "output_type": "stream",
     "text": [
      "p value is 1.0\n",
      "Independent (H0 holds true)\n"
     ]
    }
   ],
   "source": [
    "# Called built-in chi2 test and find p value\n",
    "stat, p, dof, expected = chi2_contingency(cleanedconttable)\n",
    "\n",
    "alpha = 0.05\n",
    "print(\"p value is \" + str(p)) \n",
    "if p <= alpha: \n",
    "    print('Dependent (reject H0)') \n",
    "else: \n",
    "    print('Independent (H0 holds true)')"
   ]
  },
  {
   "cell_type": "markdown",
   "metadata": {},
   "source": [
    "So while there are circumstances about our data that made this chi-squared less than ideal, it is still surprising to see the p-value be so high. Perhaps we need to consider that Condition is truly not as relevant as we'd thought it'd be.\n",
    "\n",
    "Let's carry on the same procedure but for Category."
   ]
  },
  {
   "cell_type": "code",
   "execution_count": 248,
   "metadata": {},
   "outputs": [],
   "source": [
    "# Lets take get 5 rows of average price per brand, 1 for each Condition value\n",
    "\n",
    "conttable1 = []\n",
    "\n",
    "for condition in conditions:\n",
    "    categorylist = []\n",
    "    for category in list(mercari_data['Category'].unique()):\n",
    "        if mercari_data['Price'][(mercari_data['Condition']==1) & (mercari_data['Category']==category)].any():\n",
    "            categorylist.append(mercari_data['Price'][(mercari_data['Condition']==condition) & (mercari_data['Category']==category)].mean())\n",
    "        else:\n",
    "            value = float(mercari_data['Price'][(mercari_data['Category']==category)].head(1))\n",
    "            categorylist.append(totalmean if np.isnan(value) else value)\n",
    "    conttable1.append(categorylist)\n",
    "    \n",
    "    \n",
    "    "
   ]
  },
  {
   "cell_type": "code",
   "execution_count": 266,
   "metadata": {},
   "outputs": [],
   "source": [
    "# create a cleaned version of conttable without nan values\n",
    "cleanedconttable1 = []\n",
    "\n",
    "for row in conttable1:\n",
    "    temp = []\n",
    "    for item in row:\n",
    "        if (np.isnan(item)) or (item == 0.0):\n",
    "            temp.append(totalmean)\n",
    "        else:\n",
    "            temp.append(item)\n",
    "    cleanedconttable1.append(temp)"
   ]
  },
  {
   "cell_type": "code",
   "execution_count": 267,
   "metadata": {},
   "outputs": [
    {
     "name": "stdout",
     "output_type": "stream",
     "text": [
      "p value is 0.541070432171658\n",
      "Independent (H0 holds true)\n"
     ]
    }
   ],
   "source": [
    "stat, p, dof, expected = chi2_contingency(cleanedconttable1)\n",
    "\n",
    "alpha = 0.05\n",
    "print(\"p value is \" + str(p)) \n",
    "if p <= alpha: \n",
    "    print('Dependent (reject H0)') \n",
    "else: \n",
    "    print('Independent (H0 holds true)')"
   ]
  },
  {
   "cell_type": "markdown",
   "metadata": {},
   "source": [
    "While the p-value this time is much lower this time, it's still far from being less than 0.05. Based on both of these chi-squared tests, we really do have to consider that the Condition column is not much of a predictor when it comes to Price. "
   ]
  },
  {
   "cell_type": "markdown",
   "metadata": {},
   "source": [
    "# Summary and Conclusion"
   ]
  },
  {
   "cell_type": "markdown",
   "metadata": {},
   "source": [
    "We've concluded that the columns of Brand, Category, and Shipping are reasonable predictors of price. Condition, neither by itself or paired with other columns have much of an effect on Price. \n",
    "\n",
    "Brand and Category make sense. Some brands are more luxurious than others, and of course the category of the item itself is going to greatly determine what its monetary value is. \n",
    "\n",
    "Shipping is still somewhat of a headscratcher. Most likely, the shipping status itself doesn't influence the price of a listing. As we theorized earlier, different listings vary in demand, and listings in higher demand would be able to defer shipping fees to the buyer since they will be willing to pay it anyways."
   ]
  },
  {
   "cell_type": "code",
   "execution_count": null,
   "metadata": {},
   "outputs": [],
   "source": []
  }
 ],
 "metadata": {
  "kernelspec": {
   "display_name": "Python 3",
   "language": "python",
   "name": "python3"
  },
  "language_info": {
   "codemirror_mode": {
    "name": "ipython",
    "version": 3
   },
   "file_extension": ".py",
   "mimetype": "text/x-python",
   "name": "python",
   "nbconvert_exporter": "python",
   "pygments_lexer": "ipython3",
   "version": "3.7.6"
  }
 },
 "nbformat": 4,
 "nbformat_minor": 4
}
